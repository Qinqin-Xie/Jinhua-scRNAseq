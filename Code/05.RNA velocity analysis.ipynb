{
 "cells": [
  {
   "cell_type": "markdown",
   "id": "9f3631b7",
   "metadata": {},
   "source": [
    "# **Global settings**"
   ]
  },
  {
   "cell_type": "code",
   "execution_count": null,
   "id": "4c452338",
   "metadata": {},
   "outputs": [],
   "source": [
    "import numpy as np\n",
    "import pandas as pd\n",
    "import matplotlib.pyplot as plt\n",
    "import matplotlib.colors as mcolors\n",
    "from matplotlib import rcParams\n",
    "from matplotlib.pyplot import rc_context\n",
    "import scanpy as sc\n",
    "import scrublet as scr\n",
    "import scvelo as scv\n",
    "import seaborn as sns\n",
    "import scipy.io\n",
    "import os\n",
    "import dotplot\n",
    "import dotplot.utils\n",
    "import math\n",
    "import gseapy as gp\n",
    "from gseapy.plot import barplot, dotplot, gseaplot\n",
    "from gseapy.scipalette import SciPalette\n",
    "from pylab import *\n",
    "from matplotlib.colors import ListedColormap,LinearSegmentedColormap "
   ]
  },
  {
   "cell_type": "code",
   "execution_count": null,
   "id": "97ef9b98",
   "metadata": {},
   "outputs": [],
   "source": [
    "sc.settings.set_figure_params(dpi=100, dpi_save=300, figsize=(5, 5))"
   ]
  },
  {
   "cell_type": "code",
   "execution_count": null,
   "id": "5a13494a",
   "metadata": {},
   "outputs": [
    {
     "data": {
      "text/plain": [
       "<Figure size 500x500 with 0 Axes>"
      ]
     },
     "metadata": {},
     "output_type": "display_data"
    }
   ],
   "source": [
    "plt.set_cmap('viridis')"
   ]
  },
  {
   "cell_type": "code",
   "execution_count": null,
   "id": "72ea0510",
   "metadata": {},
   "outputs": [],
   "source": [
    "scv.set_figure_params()"
   ]
  },
  {
   "cell_type": "code",
   "execution_count": null,
   "id": "f0d02f57",
   "metadata": {},
   "outputs": [],
   "source": [
    "os.chdir('/disk213/xieqq/JINHUA138.sc')"
   ]
  },
  {
   "cell_type": "markdown",
   "id": "8d774783",
   "metadata": {},
   "source": [
    "## **RNA velocity (cell lineage)**"
   ]
  },
  {
   "cell_type": "code",
   "execution_count": null,
   "id": "9a826d4a",
   "metadata": {},
   "outputs": [],
   "source": [
    "adata=sc.read_h5ad('adata_CellLineage_rank_genes_groups.h5ad')"
   ]
  },
  {
   "cell_type": "code",
   "execution_count": null,
   "id": "c1164e67",
   "metadata": {},
   "outputs": [],
   "source": [
    "os.chdir('/disk213/xieqq/JINHUA138.sc/velocyto')"
   ]
  },
  {
   "cell_type": "code",
   "execution_count": null,
   "id": "00b08364",
   "metadata": {},
   "outputs": [],
   "source": [
    "PATH='/disk213/xieqq/JINHUA138.sc/velocyto/'\n",
    "ap={}\n",
    "al={}\n",
    "sample=['CE_0','CE_60','CE_90','CE_180','CE_240',\n",
    "        'CO_0','CO_60','CO_90','CO_180','CO_240',\n",
    "        'DU_0','DU_60','DU_90','DU_180','DU_240',\n",
    "        'IL_0','IL_60','IL_90','IL_180','IL_240',\n",
    "        'JE_0','JE_60','JE_90','JE_180','JE_240']\n",
    "\n",
    "for i in sample:\n",
    "    ap[f'{i}']=sc.read_loom(PATH+f'{i}'+'/'+f'{i}'+'.loom',sparse=True)\n",
    "    ap[f'{i}'].var_names_make_unique\n",
    "    length=len(f'{i}')+1\n",
    "    ap[f'{i}'].obs.index=ap[f'{i}'].obs.index.str[length:-1]\n",
    "    x=['{}','1']\n",
    "    ap[f'{i}'].obs.index=ap[f'{i}'].obs.index.map('-'.join(x).format)\n",
    "    y=['{}',f'{i}']\n",
    "    ap[f'{i}'].obs.index=ap[f'{i}'].obs.index.map('_'.join(y).format) #每个barcode后加上sample名\n",
    "    if(ap[f'{i}'].obs.shape[1]!=0):\n",
    "        ap[f'{i}'].obs=ap[f'{i}'].obs.drop(columns=['Clusters','_X', '_Y'])\n",
    "    al[f'{i}']=scv.utils.merge(adata[adata.obs['PRO1_JH'].isin([f'{i}'])], ap[f'{i}'])"
   ]
  },
  {
   "cell_type": "code",
   "execution_count": null,
   "id": "94590778",
   "metadata": {},
   "outputs": [],
   "source": [
    "ldata=sc.concat(ap.values(),keys=ap.keys(),label='loom_JH')\n",
    "ldata"
   ]
  },
  {
   "cell_type": "code",
   "execution_count": null,
   "id": "a6a901eb",
   "metadata": {},
   "outputs": [],
   "source": [
    "ldata.write('velocyto_merge.h5ad')"
   ]
  },
  {
   "cell_type": "code",
   "execution_count": null,
   "id": "ce2b6ed5",
   "metadata": {},
   "outputs": [],
   "source": [
    "adata=scv.utils.merge(adata, ldata)\n",
    "adata"
   ]
  },
  {
   "cell_type": "code",
   "execution_count": null,
   "id": "77cd9a3e",
   "metadata": {},
   "outputs": [],
   "source": [
    "adata.write('adata_velocyto_merge.h5ad')"
   ]
  },
  {
   "cell_type": "code",
   "execution_count": null,
   "id": "61f099ad",
   "metadata": {},
   "outputs": [],
   "source": [
    "#scv.pp.filter_and_normalize(adata, min_shared_counts=20, n_top_genes=2000)\n",
    "scv.pp.moments(adata)"
   ]
  },
  {
   "cell_type": "code",
   "execution_count": null,
   "id": "ebc4804a",
   "metadata": {},
   "outputs": [
    {
     "name": "stdout",
     "output_type": "stream",
     "text": [
      "computing velocities\n",
      "    finished (0:05:50) --> added \n",
      "    'velocity', velocity vectors for each individual cell (adata.layers)\n"
     ]
    }
   ],
   "source": [
    "scv.tl.velocity(adata)"
   ]
  },
  {
   "cell_type": "code",
   "execution_count": null,
   "id": "f65e337f",
   "metadata": {},
   "outputs": [],
   "source": [
    "scv.tl.velocity_graph(adata)"
   ]
  },
  {
   "cell_type": "code",
   "execution_count": null,
   "id": "f6566e29",
   "metadata": {},
   "outputs": [],
   "source": [
    "scv.pl.velocity_embedding_grid(adata, basis='umap', color='CellLineage_change_categories')\n",
    "scv.pl.velocity_embedding_stream(adata, basis='umap', color='CellLineage_change_categories', legend_loc='right margin')"
   ]
  },
  {
   "cell_type": "code",
   "execution_count": null,
   "id": "21dd8162",
   "metadata": {},
   "outputs": [],
   "source": [
    "# adata.write('adata_CellLineage_velocity_merge.h5ad')"
   ]
  },
  {
   "cell_type": "code",
   "execution_count": null,
   "id": "53dc42ee",
   "metadata": {},
   "outputs": [],
   "source": [
    "PATH='/disk213/xieqq/JINHUA138.sc/velocyto/'\n",
    "sample=['CE_0','CE_60','CE_90','CE_180','CE_240',\n",
    "        'CO_0','CO_60','CO_90','CO_180','CO_240',\n",
    "        'DU_0','DU_60','DU_90','DU_180','DU_240',\n",
    "        'IL_0','IL_60','IL_90','IL_180','IL_240',\n",
    "        'JE_0','JE_60','JE_90','JE_180','JE_240']\n",
    "\n",
    "for i in sample:\n",
    "    al[f'{i}'].write(PATH+f'{i}'+'/'+'CellLineage_velocyto_'+f'{i}'+'.h5ad')"
   ]
  },
  {
   "cell_type": "code",
   "execution_count": null,
   "id": "54f659bc",
   "metadata": {},
   "outputs": [],
   "source": [
    "for i in sample:\n",
    "    newdata=al[f'{i}']\n",
    "    scv.pp.moments(newdata)\n",
    "    scv.tl.velocity(newdata)\n",
    "    scv.tl.velocity_graph(newdata)\n",
    "    scv.pl.velocity_embedding_grid(newdata, basis='umap', arrow_length=3, arrow_size=2, color='CellLineage_change_categories', show=False, save='grid_CellLineage_'+f'{i}'+'.pdf') \n",
    "    scv.pl.velocity_embedding_grid(newdata, basis='umap', arrow_length=3, arrow_size=2, color='CellLineage_change_categories', alpha=0, show=False, save='grid_CellLineage_alpha0_'+f'{i}'+'.pdf') #网格线"
   ]
  },
  {
   "cell_type": "markdown",
   "id": "fd99b260",
   "metadata": {},
   "source": [
    "## **RNA velocity**"
   ]
  },
  {
   "cell_type": "code",
   "execution_count": null,
   "id": "42ad49ed",
   "metadata": {},
   "outputs": [],
   "source": [
    "Epithelial=sc.read_h5ad('Epithelial_CellType.h5ad')"
   ]
  },
  {
   "cell_type": "code",
   "execution_count": null,
   "id": "648e446e",
   "metadata": {},
   "outputs": [],
   "source": [
    "os.chdir('/disk213/xieqq/JINHUA138.sc/velocyto')"
   ]
  },
  {
   "cell_type": "code",
   "execution_count": null,
   "id": "dcb2366a",
   "metadata": {},
   "outputs": [],
   "source": [
    "PATH='/disk213/xieqq/JINHUA138.sc/velocyto/'\n",
    "ap={}\n",
    "al={}\n",
    "sample=['CE_0','CE_60','CE_90','CE_180','CE_240',\n",
    "        'CO_0','CO_60','CO_90','CO_180','CO_240',\n",
    "        'DU_0','DU_60','DU_90','DU_180','DU_240',\n",
    "        'IL_0','IL_60','IL_90','IL_180','IL_240',\n",
    "        'JE_0','JE_60','JE_90','JE_180','JE_240']\n",
    "\n",
    "for i in sample:\n",
    "    ap[f'{i}']=sc.read_loom(PATH+f'{i}'+'/'+f'{i}'+'.loom',sparse=True)\n",
    "    ap[f'{i}'].var_names_make_unique\n",
    "    length=len(f'{i}')+1\n",
    "    ap[f'{i}'].obs.index=ap[f'{i}'].obs.index.str[length:-1]\n",
    "    x=['{}','1']\n",
    "    ap[f'{i}'].obs.index=ap[f'{i}'].obs.index.map('-'.join(x).format)\n",
    "    y=['{}',f'{i}']\n",
    "    ap[f'{i}'].obs.index=ap[f'{i}'].obs.index.map('_'.join(y).format) #每个barcode后加上sample名\n",
    "    if(ap[f'{i}'].obs.shape[1]!=0):\n",
    "        ap[f'{i}'].obs=ap[f'{i}'].obs.drop(columns=['Clusters','_X', '_Y'])\n",
    "    al[f'{i}']=scv.utils.merge(Epithelial[Epithelial.obs['PRO1_JH'].isin([f'{i}'])], ap[f'{i}'])"
   ]
  },
  {
   "cell_type": "code",
   "execution_count": null,
   "id": "94e7ad06",
   "metadata": {},
   "outputs": [],
   "source": [
    "ldata=sc.concat(ap.values(),keys=ap.keys(),label='loom_JH')\n",
    "ldata"
   ]
  },
  {
   "cell_type": "code",
   "execution_count": null,
   "id": "5854d354",
   "metadata": {},
   "outputs": [],
   "source": [
    "# ldata.write('velocyto_merge.h5ad') "
   ]
  },
  {
   "cell_type": "code",
   "execution_count": null,
   "id": "7a17342e",
   "metadata": {},
   "outputs": [],
   "source": [
    "Epithelial=scv.utils.merge(Epithelial, ldata)\n",
    "Epithelial"
   ]
  },
  {
   "cell_type": "code",
   "execution_count": null,
   "id": "66e02b14",
   "metadata": {},
   "outputs": [],
   "source": [
    "Epithelial.write('Epithelial_velocyto_merge.h5ad')"
   ]
  },
  {
   "cell_type": "code",
   "execution_count": null,
   "id": "f45dc27e",
   "metadata": {},
   "outputs": [],
   "source": [
    "#scv.pp.filter_and_normalize(Epithelial, min_shared_counts=20, n_top_genes=2000)\n",
    "scv.pp.moments(Epithelial)"
   ]
  },
  {
   "cell_type": "code",
   "execution_count": null,
   "id": "96ed2730",
   "metadata": {},
   "outputs": [],
   "source": [
    "scv.tl.velocity(Epithelial)"
   ]
  },
  {
   "cell_type": "code",
   "execution_count": null,
   "id": "818ce4d2",
   "metadata": {},
   "outputs": [],
   "source": [
    "scv.tl.velocity_graph(Epithelial)"
   ]
  },
  {
   "cell_type": "code",
   "execution_count": null,
   "id": "10e71b87",
   "metadata": {},
   "outputs": [],
   "source": [
    "scv.pl.velocity_embedding_stream(Epithelial, basis='umap', color='Epithelial_change_categories', legend_loc='right margin')"
   ]
  },
  {
   "cell_type": "code",
   "execution_count": null,
   "id": "9b15a244",
   "metadata": {},
   "outputs": [],
   "source": [
    "PATH='/disk213/xieqq/JINHUA138.sc/velocyto/'\n",
    "sample=['CE_0','CE_60','CE_90','CE_180','CE_240',\n",
    "        'CO_0','CO_60','CO_90','CO_180','CO_240',\n",
    "        'DU_0','DU_60','DU_90','DU_180','DU_240',\n",
    "        'IL_0','IL_60','IL_90','IL_180','IL_240',\n",
    "        'JE_0','JE_60','JE_90','JE_180','JE_240']\n",
    "\n",
    "for i in sample:\n",
    "    al[f'{i}'].write(PATH+f'{i}'+'/'+'Epithelial_velocyto_'+f'{i}'+'.h5ad')"
   ]
  },
  {
   "cell_type": "code",
   "execution_count": null,
   "id": "ff2f10db",
   "metadata": {},
   "outputs": [],
   "source": [
    "for i in sample:\n",
    "    newdata=al[f'{i}']\n",
    "    scv.pp.moments(newdata)\n",
    "    scv.tl.velocity(newdata)\n",
    "    scv.tl.velocity_graph(newdata)\n",
    "    scv.pl.velocity_embedding_grid(newdata, basis='umap', arrow_length=3, arrow_size=2, color='Epithelial_change_categories', show=False, save='grid_Epithelial_'+f'{i}'+'.pdf') \n",
    "    scv.pl.velocity_embedding_grid(newdata, basis='umap', arrow_length=3, arrow_size=2, color='Epithelial_change_categories', alpha=0, show=False, save='grid_Epithelial_alpha0_'+f'{i}'+'.pdf') #网格线"
   ]
  }
 ],
 "metadata": {
  "language_info": {
   "name": "python"
  }
 },
 "nbformat": 4,
 "nbformat_minor": 5
}
