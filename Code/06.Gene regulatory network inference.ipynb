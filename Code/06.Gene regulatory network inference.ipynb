{
 "cells": [
  {
   "cell_type": "markdown",
   "id": "2d5fd63f",
   "metadata": {},
   "source": [
    "# **Global settings**"
   ]
  },
  {
   "cell_type": "code",
   "execution_count": null,
   "id": "5e3518f2",
   "metadata": {},
   "outputs": [],
   "source": [
    "import numpy as np\n",
    "import pandas as pd\n",
    "import matplotlib.pyplot as plt\n",
    "import matplotlib.colors as mcolors\n",
    "from matplotlib import rcParams\n",
    "from matplotlib.pyplot import rc_context\n",
    "import scanpy as sc\n",
    "import scrublet as scr\n",
    "import scvelo as scv\n",
    "import seaborn as sns\n",
    "import scipy.io\n",
    "import os\n",
    "import dotplot\n",
    "import dotplot.utils\n",
    "import math\n",
    "import gseapy as gp\n",
    "from gseapy.plot import barplot, dotplot, gseaplot\n",
    "from gseapy.scipalette import SciPalette\n",
    "from pylab import *\n",
    "from matplotlib.colors import ListedColormap,LinearSegmentedColormap "
   ]
  },
  {
   "cell_type": "code",
   "execution_count": null,
   "id": "63adacf2",
   "metadata": {},
   "outputs": [],
   "source": [
    "sc.settings.set_figure_params(dpi=100, dpi_save=300, figsize=(5, 5))"
   ]
  },
  {
   "cell_type": "code",
   "execution_count": null,
   "id": "f0701218",
   "metadata": {},
   "outputs": [
    {
     "data": {
      "text/plain": [
       "<Figure size 500x500 with 0 Axes>"
      ]
     },
     "metadata": {},
     "output_type": "display_data"
    }
   ],
   "source": [
    "plt.set_cmap('viridis')"
   ]
  },
  {
   "cell_type": "code",
   "execution_count": null,
   "id": "73f4ac53",
   "metadata": {},
   "outputs": [],
   "source": [
    "scv.set_figure_params()"
   ]
  },
  {
   "cell_type": "code",
   "execution_count": null,
   "id": "6ac10e0a",
   "metadata": {},
   "outputs": [],
   "source": [
    "os.chdir('/disk213/xieqq/JINHUA138.sc')"
   ]
  },
  {
   "cell_type": "markdown",
   "id": "790a4eec",
   "metadata": {},
   "source": [
    "## **TF**"
   ]
  },
  {
   "cell_type": "code",
   "execution_count": null,
   "id": "e3310fcd",
   "metadata": {},
   "outputs": [],
   "source": [
    "import numpy as np\n",
    "import pandas as pd\n",
    "import math\n",
    "import matplotlib.pyplot as plt\n",
    "from matplotlib import rcParams\n",
    "from matplotlib.pyplot import rc_context\n",
    "import scanpy as sc\n",
    "import loompy as lp\n",
    "import pyscenic\n",
    "import glob\n",
    "import os"
   ]
  },
  {
   "cell_type": "markdown",
   "id": "2893c27d",
   "metadata": {},
   "source": [
    "### **loom文件**"
   ]
  },
  {
   "cell_type": "code",
   "execution_count": null,
   "id": "973eac63",
   "metadata": {},
   "outputs": [],
   "source": [
    "os.chdir('/disk213/xieqq/JINHUA138.sc/pySCENIC')\n",
    "\n",
    "# file_in = '/disk213/xieqq/JINHUA138.sc/adata_CellLineage.h5ad'\n",
    "file_in = '/disk213/xieqq/JINHUA138.sc/Epithelial_CellType.h5ad'\n",
    "adata = sc.read_h5ad(file_in)\n",
    "# adata = adata[adata.obs['CellType'].isin(['Enterocytes','Colonocytes'])]\n",
    "\n",
    "# file_out = 'CellLineage_scenic.loom'\n",
    "file_out = '/disk213/xieqq/JINHUA138.sc/pySCENIC_Epithelial/Epithelial_scenic.loom'\n",
    "newdata = adata\n",
    "\n",
    "# create basic row and column attributes for the loom file:\n",
    "row_attrs = {\"Gene\": np.array(newdata.var_names)}\n",
    "col_attrs = {\"CellID\": np.array(newdata.obs_names)}\n",
    "lp.create(file_out, newdata.X.transpose(), row_attrs, col_attrs)"
   ]
  },
  {
   "cell_type": "code",
   "execution_count": null,
   "id": "9f918f6a",
   "metadata": {},
   "outputs": [],
   "source": [
    "## 细分\n",
    "SEGMENT=adata.obs['SEGMENT'].cat.categories.tolist()\n",
    "TIME=adata.obs['TIME'].cat.categories.tolist()\n",
    "for segment in SEGMENT[:]:\n",
    "    data = adata[adata.obs['SEGMENT'].isin([segment])]\n",
    "    for time in TIME[:]:\n",
    "        file_out = segment+'_'+time+'_scenic.loom'\n",
    "        newdata = data[data.obs['TIME'].isin([time])]\n",
    "        row_attrs = {\"Gene\": np.array(newdata.var_names)}\n",
    "        col_attrs = {\"CellID\": np.array(newdata.obs_names)}\n",
    "        lp.create(file_out, newdata.X.transpose(), row_attrs, col_attrs)"
   ]
  },
  {
   "cell_type": "markdown",
   "id": "ee72cdb8",
   "metadata": {},
   "source": [
    "### **TF**"
   ]
  },
  {
   "cell_type": "code",
   "execution_count": null,
   "id": "a86ef83b",
   "metadata": {},
   "outputs": [],
   "source": [
    "# transcription factors list\n",
    "# f_tfs = \"/disk213/xieqq/sc/ipynb/pySCENIC/allTFs_Sus_scrofa.txt\" # ss\n",
    "# f_tfs = \"/disk213/xieqq/sc/ipynb/pySCENIC/allTFs_hg38.txt\" # human\n",
    "# f_tfs = \"/disk213/xieqq/sc/ipynb/pySCENIC/allTFs_mm.txt\"   # mouse"
   ]
  },
  {
   "cell_type": "code",
   "execution_count": null,
   "id": "5e9d25ef",
   "metadata": {},
   "outputs": [],
   "source": [
    "# source /disk211/public/anaconda3/bin/activate /disk211/public/anaconda3/envs/labBase \n",
    "cd /disk213/xieqq/JINHUA138.sc/pySCENIC\n",
    "pyscenic grn --num_workers 5 --sparse --method grnboost2 --output CellLineage.grn.csv CellLineage_scenic.loom allTFs_hg38.txt\n",
    "pyscenic ctx --num_workers 5 --output CellLineage.ctx.csv --expression_mtx_fname CellLineage_scenic.loom --mode \"custom_multiprocessing\" --annotations_fname motifs-v10nr_clust-nr.hgnc-m0.001-o0.0.tbl Epithelial.grn.csv hg38_10kbp_up_10kbp_down_full_tx_v10_clust.genes_vs_motifs.rankings.feather\n",
    "pyscenic aucell --num_workers 3 --output CellLineage_scenic_new.loom CellLineage_scenic.loom CellLineage.ctx.csv"
   ]
  },
  {
   "cell_type": "code",
   "execution_count": null,
   "id": "edae2140",
   "metadata": {},
   "outputs": [],
   "source": [
    "# source /disk211/public/anaconda3/bin/activate /disk211/public/anaconda3/envs/labBase \n",
    "cd /disk213/xieqq/JINHUA138.sc/pySCENIC_Epithelial\n",
    "pyscenic grn --num_workers 5 --sparse --method grnboost2 --output Epithelial.grn.csv Epithelial_scenic.loom allTFs_hg38.txt\n",
    "pyscenic ctx --num_workers 5 --output Epithelial.ctx.csv --expression_mtx_fname Epithelial_scenic.loom --mode \"custom_multiprocessing\" --annotations_fname motifs-v10nr_clust-nr.hgnc-m0.001-o0.0.tbl Epithelial.grn.csv hg38_10kbp_up_10kbp_down_full_tx_v10_clust.genes_vs_motifs.rankings.feather\n",
    "pyscenic aucell --num_workers 3 --output Epithelial_scenic_new.loom Epithelial_scenic.loom Epithelial.ctx.csv"
   ]
  },
  {
   "cell_type": "code",
   "execution_count": null,
   "id": "9a79bd0f",
   "metadata": {},
   "outputs": [],
   "source": [
    "# source /disk211/public/anaconda3/bin/activate /disk211/public/anaconda3/envs/labBase \n",
    "arboreto_with_multiprocessing.py \\\n",
    "    Epithelial_scenic.loom \\\n",
    "    allTFs_hg38.txt \\\n",
    "    --method grnboost2 \\\n",
    "    --output Epithelial.grn.csv \\\n",
    "    --num_workers 10 \\\n",
    "    --seed 777"
   ]
  }
 ],
 "metadata": {
  "language_info": {
   "name": "python"
  }
 },
 "nbformat": 4,
 "nbformat_minor": 5
}
