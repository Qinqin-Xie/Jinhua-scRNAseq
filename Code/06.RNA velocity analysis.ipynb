{
 "cells": [
  {
   "cell_type": "markdown",
   "id": "9f3631b7",
   "metadata": {},
   "source": [
    "# **Global settings**"
   ]
  },
  {
   "cell_type": "code",
   "execution_count": null,
   "id": "4c452338",
   "metadata": {},
   "outputs": [],
   "source": [
    "import numpy as np\n",
    "import pandas as pd\n",
    "import matplotlib.pyplot as plt\n",
    "import matplotlib.colors as mcolors\n",
    "from matplotlib import rcParams\n",
    "from matplotlib.pyplot import rc_context\n",
    "import scanpy as sc\n",
    "import scrublet as scr\n",
    "import scvelo as scv\n",
    "import seaborn as sns\n",
    "import scipy.io\n",
    "import os\n",
    "import dotplot\n",
    "import dotplot.utils\n",
    "import math\n",
    "import gseapy as gp\n",
    "from gseapy.plot import barplot, dotplot, gseaplot\n",
    "from gseapy.scipalette import SciPalette\n",
    "from pylab import *\n",
    "from matplotlib.colors import ListedColormap,LinearSegmentedColormap "
   ]
  },
  {
   "cell_type": "code",
   "execution_count": null,
   "id": "97ef9b98",
   "metadata": {},
   "outputs": [],
   "source": [
    "sc.settings.set_figure_params(dpi=100, dpi_save=300, figsize=(5, 5))"
   ]
  },
  {
   "cell_type": "code",
   "execution_count": null,
   "id": "5a13494a",
   "metadata": {},
   "outputs": [
    {
     "data": {
      "text/plain": [
       "<Figure size 500x500 with 0 Axes>"
      ]
     },
     "metadata": {},
     "output_type": "display_data"
    }
   ],
   "source": [
    "plt.set_cmap('viridis')"
   ]
  },
  {
   "cell_type": "code",
   "execution_count": null,
   "id": "72ea0510",
   "metadata": {},
   "outputs": [],
   "source": [
    "scv.set_figure_params()"
   ]
  },
  {
   "cell_type": "code",
   "execution_count": null,
   "id": "f0d02f57",
   "metadata": {},
   "outputs": [],
   "source": [
    "os.chdir('/disk213/xieqq/JINHUA138.sc')"
   ]
  },
  {
   "cell_type": "markdown",
   "id": "da499025",
   "metadata": {},
   "source": [
    "## **RNA velocity analysis**"
   ]
  },
  {
   "cell_type": "code",
   "execution_count": null,
   "id": "37800c04",
   "metadata": {},
   "outputs": [],
   "source": [
    "os.chdir('/disk213/xieqq/JINHUA138.sc/velocyto')"
   ]
  },
  {
   "cell_type": "code",
   "execution_count": null,
   "id": "21622e1b",
   "metadata": {},
   "outputs": [],
   "source": [
    "PATH='/disk213/xieqq/JINHUA138.sc/velocyto/'\n",
    "ap={}\n",
    "al={}\n",
    "sample=['Sample_1_SI_0','Sample_2_SI_0','Sample_3_SI_0','Sample_4_SI_60','Sample_5_SI_60',\n",
    "        'Sample_6_SI_60','Sample_7_SI_90','Sample_8_SI_90','Sample_9_SI_90','Sample_10_SI_180',\n",
    "        'Sample_11_SI_180','Sample_12_SI_180','Sample_13_SI_240','Sample_14_SI_240','Sample_15_SI_240',\n",
    "        'Sample_16_LI_0','Sample_17_LI_0','Sample_18_LI_60','Sample_19_LI_60','Sample_20_LI_90',\n",
    "        'Sample_21_LI_90','Sample_22_LI_180','Sample_23_LI_180','Sample_24_LI_240','Sample_25_LI_240']\n",
    "\n",
    "for i in sample:\n",
    "    ap[f'{i}']=sc.read_loom(PATH+f'{i}'+'/'+f'{i}'+'.loom',sparse=True)\n",
    "    ap[f'{i}'].var_names_make_unique\n",
    "    length=len(f'{i}')+1\n",
    "    ap[f'{i}'].obs.index=ap[f'{i}'].obs.index.str[length:-1]\n",
    "    x=['{}','1']\n",
    "    ap[f'{i}'].obs.index=ap[f'{i}'].obs.index.map('-'.join(x).format)\n",
    "    y=['{}',f'{i}']\n",
    "    ap[f'{i}'].obs.index=ap[f'{i}'].obs.index.map('_'.join(y).format)\n",
    "    if(ap[f'{i}'].obs.shape[1]!=0):\n",
    "        ap[f'{i}'].obs=ap[f'{i}'].obs.drop(columns=['Clusters','_X', '_Y'])\n",
    "    al[f'{i}']=scv.utils.merge(Epithelial[Epithelial.obs['PRO1_JH'].isin([f'{i}'])], ap[f'{i}'])"
   ]
  },
  {
   "cell_type": "code",
   "execution_count": null,
   "id": "a144e629",
   "metadata": {},
   "outputs": [],
   "source": [
    "ldata=sc.concat(ap.values(),keys=ap.keys(),label='loom_JH')\n",
    "ldata"
   ]
  },
  {
   "cell_type": "code",
   "execution_count": null,
   "id": "a4fa2d39",
   "metadata": {},
   "outputs": [],
   "source": [
    "Epithelial=scv.utils.merge(Epithelial, ldata)\n",
    "Epithelial"
   ]
  },
  {
   "cell_type": "code",
   "execution_count": null,
   "id": "dd005bac",
   "metadata": {},
   "outputs": [],
   "source": [
    "Epithelial.write('Epithelial_velocyto_merge.h5ad')"
   ]
  },
  {
   "cell_type": "code",
   "execution_count": null,
   "id": "0b833b03",
   "metadata": {},
   "outputs": [],
   "source": [
    "#scv.pp.filter_and_normalize(Epithelial, min_shared_counts=20, n_top_genes=2000)\n",
    "scv.pp.moments(Epithelial)"
   ]
  },
  {
   "cell_type": "code",
   "execution_count": null,
   "id": "a7b365fe",
   "metadata": {},
   "outputs": [],
   "source": [
    "scv.tl.velocity(Epithelial)"
   ]
  },
  {
   "cell_type": "code",
   "execution_count": null,
   "id": "81461550",
   "metadata": {},
   "outputs": [],
   "source": [
    "scv.tl.velocity_graph(Epithelial)"
   ]
  },
  {
   "cell_type": "code",
   "execution_count": null,
   "id": "61cd0eea",
   "metadata": {},
   "outputs": [],
   "source": [
    "scv.pl.velocity_embedding_stream(Epithelial, basis='umap', color='CellType', legend_loc='right margin')\n",
    "scv.pl.velocity_embedding_stream(Epithelial, basis='umap', color='CellType', legend_loc='right margin', alpha=0, show=False, save='stream_Epithelial_right_margin.svg') "
   ]
  },
  {
   "cell_type": "code",
   "execution_count": null,
   "id": "f5228c50",
   "metadata": {},
   "outputs": [],
   "source": [
    "PATH='/disk213/xieqq/JINHUA138.sc/velocyto/'\n",
    "sample=['Sample_1_SI_0','Sample_2_SI_0','Sample_3_SI_0','Sample_4_SI_60','Sample_5_SI_60',\n",
    "        'Sample_6_SI_60','Sample_7_SI_90','Sample_8_SI_90','Sample_9_SI_90','Sample_10_SI_180',\n",
    "        'Sample_11_SI_180','Sample_12_SI_180','Sample_13_SI_240','Sample_14_SI_240','Sample_15_SI_240',\n",
    "        'Sample_16_LI_0','Sample_17_LI_0','Sample_18_LI_60','Sample_19_LI_60','Sample_20_LI_90',\n",
    "        'Sample_21_LI_90','Sample_22_LI_180','Sample_23_LI_180','Sample_24_LI_240','Sample_25_LI_240']\n",
    "\n",
    "for i in sample:\n",
    "    al[f'{i}'].write(PATH+f'{i}'+'/'+'Epithelial_velocyto_'+f'{i}'+'.h5ad')"
   ]
  },
  {
   "cell_type": "code",
   "execution_count": null,
   "id": "b70cc57a",
   "metadata": {},
   "outputs": [],
   "source": [
    "for i in sample:\n",
    "    newdata=al[f'{i}']\n",
    "    scv.pp.moments(newdata)\n",
    "    scv.tl.velocity(newdata)\n",
    "    scv.tl.velocity_graph(newdata)\n",
    "    scv.pl.velocity_embedding_grid(newdata, basis='umap', arrow_length=3, arrow_size=2, color='CellType', show=False, save='grid_Epithelial_'+f'{i}'+'.pdf')\n",
    "    scv.pl.velocity_embedding_grid(newdata, basis='umap', arrow_length=3, arrow_size=2, color='CellType', alpha=0, show=False, save='grid_Epithelial_alpha0_'+f'{i}'+'.pdf') #网格线"
   ]
  }
 ],
 "metadata": {
  "language_info": {
   "name": "python"
  }
 },
 "nbformat": 4,
 "nbformat_minor": 5
}
