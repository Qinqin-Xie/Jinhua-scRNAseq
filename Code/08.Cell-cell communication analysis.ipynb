{
 "cells": [
  {
   "cell_type": "markdown",
   "metadata": {},
   "source": [
    "# **CellphoneDB**"
   ]
  },
  {
   "cell_type": "markdown",
   "metadata": {},
   "source": [
    "## R: data"
   ]
  },
  {
   "cell_type": "code",
   "execution_count": null,
   "metadata": {
    "vscode": {
     "languageId": "r"
    }
   },
   "outputs": [],
   "source": [
    "pbmc <- readRDS(\"/disk213/xieqq/JINHUA138.sc/RDS/CellLineage.rds\")\n",
    "\n",
    "counts <- as.matrix(pbmc@assays$RNA@data)\n",
    "write.table(counts,'cellphonedb_count.txt', sep='\\t', quote=F)\n",
    "\n",
    "# meta_data <- cbind(rownames(pbmc@meta.data), pbmc@meta.data[,'CellType', drop=F]) \n",
    "meta_data <- cbind(rownames(pbmc@meta.data), pbmc@meta.data[,'CellLineage', drop=F]) \n",
    "meta_data <- as.matrix(meta_data)\n",
    "meta_data[is.na(meta_data)] = \"Unkown\"\n",
    "write.table(meta_data,'cellphonedb_meta.txt', sep='\\t', quote=F, row.names=F)"
   ]
  },
  {
   "cell_type": "markdown",
   "metadata": {},
   "source": [
    "## cellphonedb"
   ]
  },
  {
   "cell_type": "code",
   "execution_count": null,
   "metadata": {
    "vscode": {
     "languageId": "r"
    }
   },
   "outputs": [],
   "source": [
    "cd /disk213/xieqq/JINHUA138/Single_cell_analysis.12.CellphoneDB/4.CellLineage\n",
    "cellphonedb method statistical_analysis cellphonedb_meta.txt cellphonedb_count.txt --counts-data=gene_name"
   ]
  },
  {
   "cell_type": "code",
   "execution_count": null,
   "metadata": {
    "vscode": {
     "languageId": "r"
    }
   },
   "outputs": [],
   "source": [
    "cd /disk213/xieqq/JINHUA138/Single_cell_analysis.12.CellphoneDB/3.Large\n",
    "cellphonedb plot dot_plot\n",
    "cellphonedb plot heatmap_plot cellphonedb_meta.txt\n",
    "tree out"
   ]
  },
  {
   "cell_type": "markdown",
   "metadata": {},
   "source": [
    "## R: plot"
   ]
  },
  {
   "cell_type": "code",
   "execution_count": null,
   "metadata": {
    "vscode": {
     "languageId": "r"
    }
   },
   "outputs": [],
   "source": [
    "library(Seurat)\n",
    "library(dplyr)\n",
    "library(psych)\n",
    "library(qgraph)\n",
    "library(igraph)\n",
    "library(tidyverse)\n",
    "library(pheatmap)"
   ]
  },
  {
   "cell_type": "code",
   "execution_count": null,
   "metadata": {
    "vscode": {
     "languageId": "r"
    }
   },
   "outputs": [],
   "source": [
    "mynet <- read.delim(\"./out/count_network.txt\", check.names = FALSE)\n",
    "# table(mynet$count)\n",
    "mynet %>% filter(count>0) -> mynet\n",
    "head(mynet)\n",
    "unique(mynet$SOURCE)\n",
    "net <- graph_from_data_frame(mynet)\n",
    "plot(net)"
   ]
  },
  {
   "cell_type": "code",
   "execution_count": null,
   "metadata": {
    "vscode": {
     "languageId": "r"
    }
   },
   "outputs": [],
   "source": [
    "allcolour=c('#7570b3','#1b9e77','#EE9B00','#FF220C','#6F5E5C','#e7298a','#CA6702','#6699CC')\n",
    "# allcolour=c('#004B23','#95D5B2','#184E77','#1A759F','#38B000','#52B788','#D8F3DC','#34A0A4')\n",
    "# allcolour=c('#52B788','#95D5B2','#007200','#D8F3DC','#38B000','#1A759F','#184E77','#34A0A4')"
   ]
  },
  {
   "cell_type": "code",
   "execution_count": null,
   "metadata": {
    "vscode": {
     "languageId": "r"
    }
   },
   "outputs": [],
   "source": [
    "karate_groups <- cluster_optimal(net) \n",
    "coords <- layout_in_circle(net, order=order(membership(karate_groups))) \n",
    "\n",
    "E(net)$width <- E(net)$count/10 \n",
    "plot(net, edge.arrow.size=.1, \n",
    "     edge.curved=0,\n",
    "     vertex.color=allcolour,\n",
    "     vertex.frame.color=\"#555555\",\n",
    "     vertex.label.color=\"black\",\n",
    "     layout=coords,\n",
    "     vertex.label.cex=.7) "
   ]
  },
  {
   "cell_type": "markdown",
   "metadata": {},
   "source": [
    "## python: plot"
   ]
  },
  {
   "cell_type": "markdown",
   "metadata": {},
   "source": [
    "#### type"
   ]
  },
  {
   "cell_type": "code",
   "execution_count": null,
   "metadata": {
    "vscode": {
     "languageId": "r"
    }
   },
   "outputs": [],
   "source": [
    "setwd(\"/disk213/xieqq/JINHUA138/Single_cell_analysis.12.CellphoneDB\")"
   ]
  },
  {
   "cell_type": "code",
   "execution_count": null,
   "metadata": {
    "vscode": {
     "languageId": "r"
    }
   },
   "outputs": [],
   "source": [
    "mypvals1 <- read.delim(\"/disk213/xieqq/JINHUA138/Single_cell_analysis.12.CellphoneDB/2.Small/out/pvalues.txt\", check.names=FALSE)\n",
    "mypvals_inf <- mypvals1 %>% dplyr::select('id_cp_interaction','interacting_pair','partner_a','partner_b','gene_a','gene_b','secreted','receptor_a','receptor_b','annotation_strategy','is_integrin')\n",
    "mypvals_inf <- arrange(mypvals_inf,id_cp_interaction)\n",
    "write.csv(mypvals_inf,\"pldf_inf.csv\")\n",
    "head(mypvals_inf)"
   ]
  },
  {
   "cell_type": "code",
   "execution_count": null,
   "metadata": {
    "vscode": {
     "languageId": "r"
    }
   },
   "outputs": [],
   "source": [
    "# other cell-Enterocytes/Colonocytes\n",
    "mypvals1 <- read.delim(\"/disk213/xieqq/JINHUA138/Single_cell_analysis.12.CellphoneDB/2.Small/out/pvalues.txt\", check.names=FALSE)\n",
    "mypvals1 <- mypvals1 %>% dplyr::select(\"interacting_pair\",ends_with(\"|Enterocytes\"))\n",
    "mymeans1 <- read.delim(\"/disk213/xieqq/JINHUA138/Single_cell_analysis.12.CellphoneDB/2.Small/out/means.txt\", check.names=FALSE)\n",
    "mymeans1 <- mymeans1 %>% dplyr::select(\"interacting_pair\",ends_with(\"|Enterocytes\"))\n",
    "\n",
    "mypvals2 <- read.delim(\"/disk213/xieqq/JINHUA138/Single_cell_analysis.12.CellphoneDB/3.Large/out/pvalues.txt\", check.names=FALSE)\n",
    "mypvals2 <- mypvals2 %>% dplyr::select(\"interacting_pair\",ends_with(\"|Colonocytes\"))\n",
    "mymeans2 <- read.delim(\"/disk213/xieqq/JINHUA138/Single_cell_analysis.12.CellphoneDB/3.Large/out/means.txt\", check.names=FALSE)\n",
    "mymeans2 <- mymeans2 %>% dplyr::select(\"interacting_pair\",ends_with(\"|Colonocytes\"))\n",
    "\n",
    "nrow(mymeans1)\n",
    "nrow(mymeans2)\n",
    "mypvals <- full_join(mypvals1,mypvals2,by=\"interacting_pair\")\n",
    "mymeans <- full_join(mymeans1,mymeans2,by=\"interacting_pair\")"
   ]
  },
  {
   "cell_type": "code",
   "execution_count": null,
   "metadata": {
    "vscode": {
     "languageId": "r"
    }
   },
   "outputs": [],
   "source": [
    "mymeans %>% reshape2::melt() -> meansdf\n",
    "colnames(meansdf)<- c(\"interacting_pair\",\"CtoC\",\"means\")\n",
    "\n",
    "mypvals %>% reshape2::melt()-> pvalsdf\n",
    "colnames(pvalsdf)<- c(\"interacting_pair\",\"CtoC\",\"pvals\")\n",
    "\n",
    "pvalsdf$joinlab<- paste0(pvalsdf$interacting_pair,\"_\",pvalsdf$CtoC)\n",
    "meansdf$joinlab<- paste0(meansdf$interacting_pair,\"_\",meansdf$CtoC)"
   ]
  },
  {
   "cell_type": "code",
   "execution_count": null,
   "metadata": {
    "vscode": {
     "languageId": "r"
    }
   },
   "outputs": [],
   "source": [
    "pldf <- merge(pvalsdf,meansdf,by=c(\"joinlab\",\"interacting_pair\",\"CtoC\"))\n",
    "pldf <- pldf[which(pldf$pvals<0.05),]\n",
    "write.csv(pldf,\"test.csv\")"
   ]
  },
  {
   "cell_type": "code",
   "execution_count": null,
   "metadata": {
    "vscode": {
     "languageId": "r"
    }
   },
   "outputs": [],
   "source": [
    "pldf <- merge(pvalsdf,meansdf,by=c(\"joinlab\",\"interacting_pair\",\"CtoC\"))\n",
    "pldf <- pldf[which(pldf$pvals<0.05),]\n",
    "# pldf <- pldf[-which(pldf$CtoC==\"Colonocytes|Colonocytes\"|pldf$CtoC==\"Enterocytes|Enterocytes\"),]\n",
    "pldf <- separate(pldf, col=3, into=c(\"From\",\"To\"), sep=\"[|]\", remove=F)\n",
    "pldf$Info <- paste(pldf$interacting_pair,pldf$From,sep=\"_\")\n",
    "\n",
    "\n",
    "pldf <- subset(pldf,pldf$Info %in% pldf$Info[duplicated(pldf$Info)]) \n",
    "pldf <- arrange(pldf,Info,To)\n",
    "write.csv(pldf,\"pldf_same_toEC.csv\")\n",
    "\n",
    "length(pldf$Info[duplicated(pldf$Info)])\n",
    "head(pldf)"
   ]
  },
  {
   "cell_type": "code",
   "execution_count": null,
   "metadata": {
    "vscode": {
     "languageId": "r"
    }
   },
   "outputs": [],
   "source": [
    "# Enterocytes/Colonocytes-other cell\n",
    "mypvals1 <- read.delim(\"/disk213/xieqq/JINHUA138/Single_cell_analysis.12.CellphoneDB/2.Small/out/pvalues.txt\", check.names=FALSE)\n",
    "mypvals1 <- mypvals1 %>% dplyr::select(\"interacting_pair\",starts_with(\"Enterocytes|\"))\n",
    "mymeans1 <- read.delim(\"/disk213/xieqq/JINHUA138/Single_cell_analysis.12.CellphoneDB/2.Small/out/means.txt\", check.names=FALSE)\n",
    "mymeans1 <- mymeans1 %>% dplyr::select(\"interacting_pair\",starts_with(\"Enterocytes|\"))\n",
    "\n",
    "mypvals2 <- read.delim(\"/disk213/xieqq/JINHUA138/Single_cell_analysis.12.CellphoneDB/3.Large/out/pvalues.txt\", check.names=FALSE)\n",
    "mypvals2 <- mypvals2 %>% dplyr::select(\"interacting_pair\",starts_with(\"Colonocytes|\"))\n",
    "mymeans2 <- read.delim(\"/disk213/xieqq/JINHUA138/Single_cell_analysis.12.CellphoneDB/3.Large/out/means.txt\", check.names=FALSE)\n",
    "mymeans2 <- mymeans2 %>% dplyr::select(\"interacting_pair\",starts_with(\"Colonocytes|\"))\n",
    "\n",
    "nrow(mymeans1)\n",
    "nrow(mymeans2)\n",
    "mypvals <- full_join(mypvals1,mypvals2,by=\"interacting_pair\")\n",
    "mymeans <- full_join(mymeans1,mymeans2,by=\"interacting_pair\")"
   ]
  },
  {
   "cell_type": "code",
   "execution_count": null,
   "metadata": {
    "vscode": {
     "languageId": "r"
    }
   },
   "outputs": [],
   "source": [
    "mymeans %>% reshape2::melt() -> meansdf\n",
    "colnames(meansdf)<- c(\"interacting_pair\",\"CtoC\",\"means\")\n",
    "\n",
    "mypvals %>% reshape2::melt()-> pvalsdf\n",
    "colnames(pvalsdf)<- c(\"interacting_pair\",\"CtoC\",\"pvals\")\n",
    "\n",
    "pvalsdf$joinlab<- paste0(pvalsdf$interacting_pair,\"_\",pvalsdf$CtoC)\n",
    "meansdf$joinlab<- paste0(meansdf$interacting_pair,\"_\",meansdf$CtoC)"
   ]
  },
  {
   "cell_type": "code",
   "execution_count": null,
   "metadata": {
    "vscode": {
     "languageId": "r"
    }
   },
   "outputs": [],
   "source": [
    "pldf <- merge(pvalsdf,meansdf,by=c(\"joinlab\",\"interacting_pair\",\"CtoC\"))\n",
    "pldf <- pldf[which(pldf$pvals<0.05),]\n",
    "# pldf <- pldf[-which(pldf$CtoC==\"Colonocytes|Colonocytes\"|pldf$CtoC==\"Enterocytes|Enterocytes\"),]\n",
    "pldf <- separate(pldf, col=3, into=c(\"From\",\"To\"), sep=\"[|]\", remove=F)\n",
    "pldf$Info <- paste(pldf$interacting_pair,pldf$To,sep=\"_\")\n",
    "\n",
    "\n",
    "pldf <- subset(pldf,pldf$Info %in% pldf$Info[duplicated(pldf$Info)]) \n",
    "pldf <- arrange(pldf,Info,To)\n",
    "write.csv(pldf,\"pldf_same_ECto.csv\")\n",
    "\n",
    "length(pldf$Info[duplicated(pldf$Info)])\n",
    "head(pldf)"
   ]
  },
  {
   "cell_type": "code",
   "execution_count": null,
   "metadata": {
    "vscode": {
     "languageId": "r"
    }
   },
   "outputs": [],
   "source": [
    "pldf1 <- read.csv(\"pldf_same_ECto.csv\", row.names=1, check.names=FALSE)\n",
    "pldf1 <- pldf1 %>% dplyr::select(\"interacting_pair\",\"CtoC\",\"From\",\"To\",\"pvals\",\"means\")\n",
    "pldf1$Info <- \"ECtoCell\"\n",
    "pldf2 <- read.csv(\"pldf_same_toEC.csv\", row.names=1, check.names=FALSE)\n",
    "pldf2 <- pldf2 %>% dplyr::select(\"interacting_pair\",\"CtoC\",\"From\",\"To\",\"pvals\",\"means\")\n",
    "pldf2$Info <- \"CelltoEC\"\n",
    "\n",
    "pldf <- rbind(pldf1,pldf2)\n",
    "pldf <- pldf[!duplicated(pldf[,c(\"interacting_pair\",\"CtoC\",\"From\",\"To\",\"pvals\",\"means\")]), ]\n",
    "write.csv(pldf,\"pldf_same.csv\")"
   ]
  },
  {
   "cell_type": "code",
   "execution_count": null,
   "metadata": {
    "vscode": {
     "languageId": "r"
    }
   },
   "outputs": [],
   "source": [
    "pldf$interacting_pair <- gsub(\"_\",\"/\",pldf$interacting_pair)"
   ]
  },
  {
   "cell_type": "code",
   "execution_count": null,
   "metadata": {
    "vscode": {
     "languageId": "r"
    }
   },
   "outputs": [],
   "source": [
    "unique(pldf$CtoC)\n",
    "x_order=c('BEST4enterocytes|Colonocytes','EECs|Colonocytes','Goblet|Colonocytes','Progenitor|Colonocytes','Stem|Colonocytes','TA|Colonocytes','Tuft|Colonocytes',\n",
    "          'BEST4enterocytes|Enterocytes','EECs|Enterocytes','Goblet|Enterocytes','Progenitor|Enterocytes','Stem|Enterocytes','TA|Enterocytes','Tuft|Enterocytes',\n",
    "          'Colonocytes|BEST4enterocytes','Colonocytes|EECs','Colonocytes|Goblet','Colonocytes|Progenitor','Colonocytes|Stem','Colonocytes|TA','Colonocytes|Tuft',\n",
    "          'Enterocytes|BEST4enterocytes','Enterocytes|EECs','Enterocytes|Goblet','Enterocytes|Progenitor','Enterocytes|Stem','Enterocytes|TA','Enterocytes|Tuft')"
   ]
  },
  {
   "cell_type": "code",
   "execution_count": null,
   "metadata": {
    "vscode": {
     "languageId": "r"
    }
   },
   "outputs": [],
   "source": [
    "unique(pldf$interacting_pair)\n",
    "y_order=sort(unique(pldf$interacting_pair),decreasing=TRUE)"
   ]
  },
  {
   "cell_type": "code",
   "execution_count": null,
   "metadata": {
    "vscode": {
     "languageId": "r"
    }
   },
   "outputs": [],
   "source": [
    "p <- ggplot(pldf,aes(x=CtoC,y=interacting_pair,color=pvals,size=means))+ \n",
    "     geom_point(shape=16) +\n",
    "     scale_x_discrete(limits=x_order) +\n",
    "     scale_y_discrete(limits=y_order)+\n",
    "     scale_color_gradient(limits=c(0,0.05),low=\"#08519C\", high=\"white\")+\n",
    "     labs(x=\"\", y=\"\", title=\"\", color=\"P-value\", size=\"Means\")+\n",
    "     facet_wrap(Info~.) +\n",
    "     theme_bw()+ \n",
    "     theme(axis.text.x=element_text(color=\"black\",family=\"Times\",size=12,angle=90,hjust=1),\n",
    "           axis.text.y=element_text(color=\"black\",family=\"Times\",size=12),\n",
    "           legend.text=element_text(color=\"black\",family=\"Times\",size=12),\n",
    "           legend.title=element_text(color=\"black\",family=\"Times\",size=14),\n",
    "           #panel.grid.major=element_blank(),\n",
    "           panel.grid.minor=element_blank())\n",
    "p\n",
    "pdf(file=\"CellphoneDB_same.pdf\", width=12, height=10)\n",
    "p\n",
    "dev.off()"
   ]
  },
  {
   "cell_type": "markdown",
   "metadata": {},
   "source": [
    "#### top"
   ]
  },
  {
   "cell_type": "code",
   "execution_count": null,
   "metadata": {
    "vscode": {
     "languageId": "r"
    }
   },
   "outputs": [],
   "source": [
    "setwd(\"/disk213/xieqq/JINHUA138/Single_cell_analysis.12.CellphoneDB\")"
   ]
  },
  {
   "cell_type": "code",
   "execution_count": null,
   "metadata": {
    "vscode": {
     "languageId": "r"
    }
   },
   "outputs": [],
   "source": [
    "# other-Enterocytes/Colonocytes\n",
    "mypvals1 <- read.delim(\"/disk213/xieqq/JINHUA138/Single_cell_analysis.12.CellphoneDB/2.Small/out/pvalues.txt\", check.names=FALSE)\n",
    "mypvals1 <- mypvals1 %>% dplyr::select(\"interacting_pair\",ends_with(\"|Enterocytes\"))\n",
    "mymeans1 <- read.delim(\"/disk213/xieqq/JINHUA138/Single_cell_analysis.12.CellphoneDB/2.Small/out/significant_means.txt\", check.names=FALSE) \n",
    "mymeans1 <- mymeans1 %>% dplyr::select(\"interacting_pair\",ends_with(\"|Enterocytes\"))\n",
    "\n",
    "mypvals2 <- read.delim(\"/disk213/xieqq/JINHUA138/Single_cell_analysis.12.CellphoneDB/3.Large/out/pvalues.txt\", check.names=FALSE)\n",
    "mypvals2 <- mypvals2 %>% dplyr::select(\"interacting_pair\",ends_with(\"|Colonocytes\"))\n",
    "mymeans2 <- read.delim(\"/disk213/xieqq/JINHUA138/Single_cell_analysis.12.CellphoneDB/3.Large/out/significant_means.txt\", check.names=FALSE)\n",
    "mymeans2 <- mymeans2 %>% dplyr::select(\"interacting_pair\",ends_with(\"|Colonocytes\"))\n",
    "\n",
    "nrow(mymeans1)\n",
    "nrow(mymeans2)\n",
    "mypvals <- full_join(mypvals1,mypvals2,by=\"interacting_pair\")\n",
    "mymeans <- full_join(mymeans1,mymeans2,by=\"interacting_pair\")"
   ]
  },
  {
   "cell_type": "code",
   "execution_count": null,
   "metadata": {
    "vscode": {
     "languageId": "r"
    }
   },
   "outputs": [],
   "source": [
    "mymeans %>% reshape2::melt() -> meansdf\n",
    "colnames(meansdf)<- c(\"interacting_pair\",\"CtoC\",\"means\")\n",
    "\n",
    "mypvals %>% reshape2::melt()-> pvalsdf\n",
    "colnames(pvalsdf)<- c(\"interacting_pair\",\"CtoC\",\"pvals\")\n",
    "\n",
    "pvalsdf$joinlab<- paste0(pvalsdf$interacting_pair,\"_\",pvalsdf$CtoC)\n",
    "meansdf$joinlab<- paste0(meansdf$interacting_pair,\"_\",meansdf$CtoC)"
   ]
  },
  {
   "cell_type": "code",
   "execution_count": null,
   "metadata": {
    "vscode": {
     "languageId": "r"
    }
   },
   "outputs": [],
   "source": [
    "pldf <- merge(pvalsdf,meansdf,by=c(\"joinlab\",\"interacting_pair\",\"CtoC\"))\n",
    "pldf <- pldf[!is.na(pldf$means) & pldf$pvals<0.05,] \n",
    "pldf <- separate(pldf, col=3, into=c(\"From\",\"To\"), sep=\"[|]\", remove=F)\n",
    "pldf$Info <- paste(pldf$interacting_pair,pldf$To,sep=\"_\")\n",
    "\n",
    "pldf <- arrange(pldf,CtoC,desc(means))\n",
    "pldf <- pldf %>% group_by(CtoC) %>% top_n(5, means)\n",
    "write.csv(pldf,\"pldf_sig_top5_toEC.csv\")\n",
    "\n",
    "length(pldf$Info[duplicated(pldf$Info)])\n",
    "head(pldf)"
   ]
  },
  {
   "cell_type": "code",
   "execution_count": null,
   "metadata": {
    "vscode": {
     "languageId": "r"
    }
   },
   "outputs": [],
   "source": [
    "# Enterocytes/Colonocytes-other\n",
    "mypvals1 <- read.delim(\"/disk213/xieqq/JINHUA138/Single_cell_analysis.12.CellphoneDB/2.Small/out/pvalues.txt\", check.names=FALSE)\n",
    "mypvals1 <- mypvals1 %>% dplyr::select(\"interacting_pair\",starts_with(\"Enterocytes|\"))\n",
    "mymeans1 <- read.delim(\"/disk213/xieqq/JINHUA138/Single_cell_analysis.12.CellphoneDB/2.Small/out/means.txt\", check.names=FALSE)\n",
    "mymeans1 <- mymeans1 %>% dplyr::select(\"interacting_pair\",starts_with(\"Enterocytes|\"))\n",
    "\n",
    "mypvals2 <- read.delim(\"/disk213/xieqq/JINHUA138/Single_cell_analysis.12.CellphoneDB/3.Large/out/pvalues.txt\", check.names=FALSE)\n",
    "mypvals2 <- mypvals2 %>% dplyr::select(\"interacting_pair\",starts_with(\"Colonocytes|\"))\n",
    "mymeans2 <- read.delim(\"/disk213/xieqq/JINHUA138/Single_cell_analysis.12.CellphoneDB/3.Large/out/means.txt\", check.names=FALSE)\n",
    "mymeans2 <- mymeans2 %>% dplyr::select(\"interacting_pair\",starts_with(\"Colonocytes|\"))\n",
    "\n",
    "nrow(mymeans1)\n",
    "nrow(mymeans2)\n",
    "mypvals <- full_join(mypvals1,mypvals2,by=\"interacting_pair\")\n",
    "mymeans <- full_join(mymeans1,mymeans2,by=\"interacting_pair\")"
   ]
  },
  {
   "cell_type": "code",
   "execution_count": null,
   "metadata": {
    "vscode": {
     "languageId": "r"
    }
   },
   "outputs": [],
   "source": [
    "mymeans %>% reshape2::melt() -> meansdf\n",
    "colnames(meansdf)<- c(\"interacting_pair\",\"CtoC\",\"means\")\n",
    "\n",
    "mypvals %>% reshape2::melt()-> pvalsdf\n",
    "colnames(pvalsdf)<- c(\"interacting_pair\",\"CtoC\",\"pvals\")\n",
    "\n",
    "pvalsdf$joinlab<- paste0(pvalsdf$interacting_pair,\"_\",pvalsdf$CtoC)\n",
    "meansdf$joinlab<- paste0(meansdf$interacting_pair,\"_\",meansdf$CtoC)"
   ]
  },
  {
   "cell_type": "code",
   "execution_count": null,
   "metadata": {
    "vscode": {
     "languageId": "r"
    }
   },
   "outputs": [],
   "source": [
    "pldf <- merge(pvalsdf,meansdf,by=c(\"joinlab\",\"interacting_pair\",\"CtoC\"))\n",
    "pldf <- pldf[!is.na(pldf$means) & pldf$pvals<0.05,] \n",
    "pldf <- separate(pldf, col=3, into=c(\"From\",\"To\"), sep=\"[|]\", remove=F)\n",
    "pldf$Info <- paste(pldf$interacting_pair,pldf$From,sep=\"_\")\n",
    "\n",
    "pldf <- arrange(pldf,CtoC,desc(means))\n",
    "pldf <- pldf %>% group_by(CtoC) %>% top_n(5, means)\n",
    "write.csv(pldf,\"pldf_sig_top5_ECto.csv\")\n",
    "\n",
    "length(pldf$Info[duplicated(pldf$Info)])\n",
    "head(pldf)"
   ]
  },
  {
   "cell_type": "code",
   "execution_count": null,
   "metadata": {
    "vscode": {
     "languageId": "r"
    }
   },
   "outputs": [],
   "source": [
    "pldf1 <- read.csv(\"pldf_sig_top5_ECto.csv\", row.names=1, check.names=FALSE)\n",
    "pldf1 <- pldf1 %>% dplyr::select(\"interacting_pair\",\"CtoC\",\"From\",\"To\",\"pvals\",\"means\")\n",
    "pldf1$Info <- \"ECtoCell\"\n",
    "pldf2 <- read.csv(\"pldf_sig_top5_toEC.csv\", row.names=1, check.names=FALSE)\n",
    "pldf2 <- pldf2 %>% dplyr::select(\"interacting_pair\",\"CtoC\",\"From\",\"To\",\"pvals\",\"means\")\n",
    "pldf2$Info <- \"CelltoEC\"\n",
    "\n",
    "pldf <- rbind(pldf1,pldf2)\n",
    "pldf <- pldf[!duplicated(pldf[,c(\"interacting_pair\",\"CtoC\",\"From\",\"To\",\"pvals\",\"means\")]), ]\n",
    "write.csv(pldf,\"pldf_sig_top5.csv\")"
   ]
  },
  {
   "cell_type": "code",
   "execution_count": null,
   "metadata": {
    "vscode": {
     "languageId": "r"
    }
   },
   "outputs": [],
   "source": [
    "pldf$interacting_pair <- gsub(\"_\",\"/\",pldf$interacting_pair)\n",
    "pldf$Info[which(pldf$CtoC=='Colonocytes|Colonocytes'|pldf$CtoC=='Enterocytes|Enterocytes')] <- \"CelltoEC\""
   ]
  },
  {
   "cell_type": "code",
   "execution_count": null,
   "metadata": {
    "vscode": {
     "languageId": "r"
    }
   },
   "outputs": [],
   "source": [
    "unique(pldf$CtoC)\n",
    "x_order=c('Colonocytes|Colonocytes','Enterocytes|Enterocytes',\n",
    "          'BEST4enterocytes|Colonocytes','EECs|Colonocytes','Goblet|Colonocytes','Progenitor|Colonocytes','Stem|Colonocytes','TA|Colonocytes','Tuft|Colonocytes',\n",
    "          'BEST4enterocytes|Enterocytes','EECs|Enterocytes','Goblet|Enterocytes','Progenitor|Enterocytes','Stem|Enterocytes','TA|Enterocytes','Tuft|Enterocytes',\n",
    "          'Colonocytes|BEST4enterocytes','Colonocytes|EECs','Colonocytes|Goblet','Colonocytes|Progenitor','Colonocytes|Stem','Colonocytes|TA','Colonocytes|Tuft',\n",
    "          'Enterocytes|BEST4enterocytes','Enterocytes|EECs','Enterocytes|Goblet','Enterocytes|Progenitor','Enterocytes|Stem','Enterocytes|TA','Enterocytes|Tuft')"
   ]
  },
  {
   "cell_type": "code",
   "execution_count": null,
   "metadata": {
    "vscode": {
     "languageId": "r"
    }
   },
   "outputs": [],
   "source": [
    "unique(pldf$interacting_pair)\n",
    "y_order=sort(unique(pldf$interacting_pair),decreasing=TRUE)"
   ]
  },
  {
   "cell_type": "code",
   "execution_count": null,
   "metadata": {
    "vscode": {
     "languageId": "r"
    }
   },
   "outputs": [],
   "source": [
    "newdata=subset(pldf, select=c(\"interacting_pair\",\"CtoC\",\"pvals\",\"means\",\"Info\"))\n",
    "newdata=arrange(newdata,desc(means))\n",
    "newdata=newdata[order(match(newdata$CtoC, x_order)), ]\n",
    "newdata$order=c(1:nrow(newdata))\n",
    "newdata$order[which(duplicated(newdata$interacting_pair))]=NA"
   ]
  },
  {
   "cell_type": "code",
   "execution_count": null,
   "metadata": {
    "vscode": {
     "languageId": "r"
    }
   },
   "outputs": [],
   "source": [
    "plot_data=NULL\n",
    "for (i in unique(newdata$interacting_pair)){\n",
    "    data=as.data.frame(newdata[which(newdata$interacting_pair==i),])\n",
    "    order=data$order[!is.na(data$order)]\n",
    "    data$order=order\n",
    "    plot_data <- rbind(plot_data,data)\n",
    "}"
   ]
  },
  {
   "cell_type": "code",
   "execution_count": null,
   "metadata": {
    "vscode": {
     "languageId": "r"
    }
   },
   "outputs": [],
   "source": [
    "ego <- ggplot(plot_data, aes(CtoC, reorder(interacting_pair,-order)))+\n",
    "       geom_point(aes(size=means,color=pvals),shape=16)+\n",
    "       scale_color_gradient(limits=c(0,0.05),low=\"#08519C\", high=\"white\")+\n",
    "       labs(x=\"\", y=\"\", title=\"\", size=\"Means\", color=\"P-value\")+\n",
    "       scale_x_discrete(limits=x_order) +\n",
    "       facet_wrap(Info~.) +\n",
    "       theme_bw()+ \n",
    "       theme(axis.text.x=element_text(color=\"black\",family=\"Times\",size=12,angle=90,hjust=1),\n",
    "             axis.text.y=element_text(color=\"black\",family=\"Times\",size=12),\n",
    "             legend.text=element_text(color=\"black\",family=\"Times\",size=12),\n",
    "             legend.title=element_text(color=\"black\",family=\"Times\",size=14),\n",
    "             #panel.grid.major=element_blank(),\n",
    "             panel.grid.minor=element_blank())\n",
    "ego\n",
    "pdf(file=\"CellphoneDB_sig.pdf\", width=12, height=8)\n",
    "ego\n",
    "dev.off()"
   ]
  },
  {
   "cell_type": "markdown",
   "metadata": {},
   "source": [
    "## gene expression"
   ]
  },
  {
   "cell_type": "code",
   "execution_count": null,
   "metadata": {
    "vscode": {
     "languageId": "python"
    }
   },
   "outputs": [],
   "source": [
    "COL = adata[adata.obs['CellType'].isin(['Colonocytes'])]\n",
    "ENT = adata[adata.obs['CellType'].isin(['Enterocytes'])]"
   ]
  },
  {
   "cell_type": "code",
   "execution_count": null,
   "metadata": {
    "vscode": {
     "languageId": "python"
    }
   },
   "outputs": [],
   "source": [
    "marker_genes_dict={\n",
    "'Colonocytes':['DSC2','COL17A1','COL17A1','LGALS9','EGFR','LGALS9','CD46','FAM3C', 'LAMP1','GHSR', 'LRP5'],\n",
    "'Enterocytes':['DSG2','ITGA2','ITGB1',    'SORL1', 'AREG','PTPRK', 'JAG1','CLEC2D','FAM3C','LEAP2','FAM3B']\n",
    "}\n",
    "sc.pl.dotplot(adata,var_names=marker_genes_dict,groupby='CellType',cmap='Blues',vmin=0,vmax=1,save='Gene_sig_withinE.pdf')"
   ]
  }
 ],
 "metadata": {
  "kernelspec": {
   "display_name": "R",
   "language": "R",
   "name": "ir"
  },
  "language_info": {
   "codemirror_mode": "r",
   "file_extension": ".r",
   "mimetype": "text/x-r-source",
   "name": "R",
   "pygments_lexer": "r",
   "version": "4.1.2"
  }
 },
 "nbformat": 4,
 "nbformat_minor": 2
}
