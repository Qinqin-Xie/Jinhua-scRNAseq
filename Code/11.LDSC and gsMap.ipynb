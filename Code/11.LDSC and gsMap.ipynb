{
 "cells": [
  {
   "cell_type": "markdown",
   "id": "b9aa787f",
   "metadata": {},
   "source": [
    "# **Global settings**"
   ]
  },
  {
   "cell_type": "code",
   "execution_count": null,
   "id": "d18acda7",
   "metadata": {},
   "outputs": [],
   "source": [
    "import numpy as np\n",
    "import pandas as pd\n",
    "import matplotlib.pyplot as plt\n",
    "import matplotlib.colors as mcolors\n",
    "from matplotlib import rcParams\n",
    "from matplotlib.pyplot import rc_context\n",
    "import scanpy as sc\n",
    "import scrublet as scr\n",
    "import scvelo as scv\n",
    "import seaborn as sns\n",
    "import scipy.io\n",
    "import os\n",
    "import dotplot\n",
    "import dotplot.utils\n",
    "import math\n",
    "import gseapy as gp\n",
    "from gseapy.plot import barplot, dotplot, gseaplot\n",
    "from gseapy.scipalette import SciPalette\n",
    "from pylab import *\n",
    "from matplotlib.colors import ListedColormap,LinearSegmentedColormap "
   ]
  },
  {
   "cell_type": "code",
   "execution_count": null,
   "id": "e828224f",
   "metadata": {},
   "outputs": [],
   "source": [
    "sc.settings.set_figure_params(dpi=100, dpi_save=300, figsize=(5, 5))"
   ]
  },
  {
   "cell_type": "code",
   "execution_count": null,
   "id": "3ccdd8ac",
   "metadata": {},
   "outputs": [
    {
     "data": {
      "text/plain": [
       "<Figure size 500x500 with 0 Axes>"
      ]
     },
     "metadata": {},
     "output_type": "display_data"
    }
   ],
   "source": [
    "plt.set_cmap('viridis')"
   ]
  },
  {
   "cell_type": "code",
   "execution_count": null,
   "id": "a1f46e62",
   "metadata": {},
   "outputs": [],
   "source": [
    "scv.set_figure_params()"
   ]
  },
  {
   "cell_type": "code",
   "execution_count": null,
   "id": "12427719",
   "metadata": {},
   "outputs": [],
   "source": [
    "os.chdir('/disk213/xieqq/JINHUA138.sc')"
   ]
  },
  {
   "cell_type": "markdown",
   "id": "20be642e",
   "metadata": {},
   "source": [
    "# LDSC"
   ]
  },
  {
   "cell_type": "code",
   "execution_count": null,
   "id": "c6c86ba1",
   "metadata": {},
   "outputs": [],
   "source": [
    "import numpy as np\n",
    "import pandas as pd\n",
    "import matplotlib.pyplot as plt\n",
    "import decoupler as dc\n",
    "import scanpy as sc\n",
    "import os\n",
    "import math\n",
    "import csv"
   ]
  },
  {
   "cell_type": "code",
   "execution_count": null,
   "id": "ccc7bb27",
   "metadata": {},
   "outputs": [],
   "source": [
    "os.chdir('/disk213/xieqq/JINHUA138/Single_cell_analysis.10.LDSC')\n",
    "concat = sc.read_h5ad('/disk213/xieqq/JINHUA138.sc/adata_rowcounts.h5ad')\n",
    "adata = sc.read_h5ad('/disk213/xieqq/JINHUA138.sc/adata_CellLineage.h5ad')\n",
    "common_cells = set(concat.obs_names) & set(adata.obs_names) \n",
    "concat = concat[concat.obs_names.isin(common_cells), :]\n",
    "adata = adata[adata.obs_names.isin(common_cells), :]\n",
    "adata.layers['counts']=concat.X\n",
    "my_sample_col = 'CellLineage'\n",
    "\n",
    "Epithelial = sc.read_h5ad('/disk213/xieqq/JINHUA138.sc/Epithelial_CellType.h5ad')\n",
    "adata = adata[adata.obs['CellLineage'].isin(['Epithelial'])]\n",
    "adata.obs['CellType'] = Epithelial.obs['CellType'] \n",
    "my_sample_col = 'CellType'"
   ]
  },
  {
   "cell_type": "code",
   "execution_count": null,
   "id": "1b1f4111",
   "metadata": {},
   "outputs": [],
   "source": [
    "data1 = pd.read_csv('/disk213/xieqq/Software/pig_to_human_orthologs/pig_to_human_orthologs.csv')\n",
    "data2 = pd.read_csv('/disk213/xieqq/Software/pig_to_human_orthologs/gProfiler_sscrofa.csv')\n",
    "data = pd.merge(data1, data2[['initial_alias','converted_alias']], left_on='ensembl_gene_id', right_on='initial_alias')\n",
    "name = pd.DataFrame({'gene_name': adata.var_names})\n",
    "name1 = name[name['gene_name'].str.startswith('ENSSSCG')]\n",
    "name1 = pd.merge(name1, data[['human_orthologs','ensembl_gene_id']], left_on='gene_name', right_on='ensembl_gene_id')\n",
    "name2 = pd.merge(name, data[['human_orthologs','converted_alias']], left_on='gene_name', right_on='converted_alias')\n",
    "name1 = name1.drop(name1.columns[-1], axis=1)\n",
    "name2 = name2.drop(name2.columns[-1], axis=1)\n",
    "name = pd.concat([name1, name2], axis=0)\n",
    "name = name.dropna(subset=['human_orthologs'])\n",
    "name = name.drop_duplicates(subset=['human_orthologs'], keep='first')\n",
    "modified_names = []\n",
    "for gene_name in adata.var_names:\n",
    "    matches = name.loc[name['gene_name'] == gene_name, 'human_orthologs']\n",
    "    if len(matches) > 0:\n",
    "        modified_names.append(matches.values[0])\n",
    "    else:\n",
    "        modified_names.append(gene_name)\n",
    "adata.var_names_make_unique()\n",
    "adata.var_names = modified_names"
   ]
  },
  {
   "cell_type": "code",
   "execution_count": null,
   "id": "0e930c30",
   "metadata": {},
   "outputs": [],
   "source": [
    "pdata = dc.get_pseudobulk(\n",
    "    adata,\n",
    "    sample_col=my_sample_col,  #CellLineage, CellType\n",
    "    groups_col=None,\n",
    "    layer='counts',\n",
    "    mode='sum',\n",
    "    min_cells=10,\n",
    "    min_counts=1000\n",
    ")\n",
    "\n",
    "# Store raw counts in layers\n",
    "pdata.layers['counts'] = pdata.X.copy()\n",
    "\n",
    "# Normalize, scale and compute pca\n",
    "sc.pp.normalize_total(pdata, target_sum=1e4)\n",
    "sc.pp.log1p(pdata)\n",
    "sc.pp.scale(pdata, max_value=10)\n",
    "sc.tl.pca(pdata)\n",
    "list = pdata.T.to_df()\n",
    "list = list[list.index.str.contains(\"ENSG\")]\n",
    "#list.to_csv(\"raw_counts_scaled_CellLineage.csv\", index=True)\n",
    "list.to_csv(\"raw_counts_scaled_Epithelial.csv\", index=True)"
   ]
  },
  {
   "cell_type": "code",
   "execution_count": null,
   "id": "aaf461ad",
   "metadata": {},
   "outputs": [],
   "source": [
    "os.chdir('/disk213/xieqq/JINHUA138/Single_cell_analysis.10.LDSC')\n",
    "#adata = sc.read_h5ad('/disk213/xieqq/JINHUA138.sc/adata_CellLineage.h5ad')\n",
    "#my_group = 'CellLineage'\n",
    "adata = sc.read_h5ad('/disk213/xieqq/JINHUA138.sc/Epithelial_CellType.h5ad')\n",
    "my_group = 'CellType'\n",
    "adata.uns['log1p'][\"base\"] = None"
   ]
  },
  {
   "cell_type": "code",
   "execution_count": null,
   "id": "5070bb56",
   "metadata": {},
   "outputs": [],
   "source": [
    "data1 = pd.read_csv('/disk213/xieqq/Software/pig_to_human_orthologs/pig_to_human_orthologs.csv')\n",
    "data2 = pd.read_csv('/disk213/xieqq/Software/pig_to_human_orthologs/gProfiler_sscrofa.csv')\n",
    "data = pd.merge(data1, data2[['initial_alias','converted_alias']], left_on='ensembl_gene_id', right_on='initial_alias')\n",
    "name = pd.DataFrame({'gene_name': adata.var_names})\n",
    "name1 = name[name['gene_name'].str.startswith('ENSSSCG')]\n",
    "name1 = pd.merge(name1, data[['human_orthologs','ensembl_gene_id']], left_on='gene_name', right_on='ensembl_gene_id')\n",
    "name2 = pd.merge(name, data[['human_orthologs','converted_alias']], left_on='gene_name', right_on='converted_alias')\n",
    "name1 = name1.drop(name1.columns[-1], axis=1)\n",
    "name2 = name2.drop(name2.columns[-1], axis=1)\n",
    "name = pd.concat([name1, name2], axis=0)\n",
    "name = name.dropna(subset=['human_orthologs'])\n",
    "name = name.drop_duplicates(subset=['human_orthologs'], keep='first')\n",
    "modified_names = []\n",
    "for gene_name in adata.var_names:\n",
    "    matches = name.loc[name['gene_name'] == gene_name, 'human_orthologs']\n",
    "    if len(matches) > 0: \n",
    "        modified_names.append(matches.values[0])\n",
    "    else: \n",
    "        modified_names.append(gene_name)\n",
    "\n",
    "adata.var_names_make_unique()\n",
    "adata.var_names = modified_names"
   ]
  },
  {
   "cell_type": "code",
   "execution_count": null,
   "id": "a82ec82b",
   "metadata": {},
   "outputs": [],
   "source": [
    "sc.tl.rank_genes_groups(adata, groupby=my_group, method='wilcoxon', corr_method='benjamini-hochberg', n_genes=1000, key_added='DEG')\n",
    "result = adata.uns['DEG']\n",
    "groups = result['names'].dtype.names\n",
    "marker = []\n",
    "for group in groups:\n",
    "    data = pd.DataFrame({'names': result['names'][group], 'scores': result['scores'][group], 'celltype':group})\n",
    "    data = data[data['names'].str.contains(\"ENSG\")]\n",
    "    data = data.nlargest(500, 'scores')\n",
    "    marker.append(data)\n",
    "\n",
    "list = pd.concat(marker, axis=0)\n",
    "#list.to_csv(\"DEG500_CellLineage.csv\",index=False)\n",
    "list.to_csv(\"DEG500_Epithelial.csv\",index=False)"
   ]
  },
  {
   "cell_type": "markdown",
   "id": "fca28a4c",
   "metadata": {},
   "source": [
    "### R"
   ]
  },
  {
   "cell_type": "code",
   "execution_count": null,
   "id": "7676698c",
   "metadata": {},
   "outputs": [],
   "source": [
    "library(tidyverse)\n",
    "library(data.table)\n",
    "library(doParallel)\n",
    "library(foreach)"
   ]
  },
  {
   "cell_type": "code",
   "execution_count": null,
   "id": "c6c2e0d2",
   "metadata": {},
   "outputs": [],
   "source": [
    "plink_dir<-\"/disk213/xieqq/JINHUA138/Single_cell_analysis.10.LDSC/data/1000G_EAS_Phase3_plink\"\n",
    "gene_coord<-\"/disk213/xieqq/JINHUA138/Single_cell_analysis.10.LDSC/data/all_gene.txt\"\n",
    "out_dir<-\"/disk213/xieqq/JINHUA138/Single_cell_analysis.10.LDSC/EAS_baseline_Epithelial\" \n",
    "tseT_file<-\"/disk213/xieqq/JINHUA138/Single_cell_analysis.10.LDSC/DEG500_Epithelial.csv\" \n",
    "dir.create(out_dir,showWarnings = F) "
   ]
  },
  {
   "cell_type": "code",
   "execution_count": null,
   "id": "7815916e",
   "metadata": {},
   "outputs": [],
   "source": [
    "# TSG\n",
    "tseT<-read.csv(tseT_file)\n",
    "tsg<-list()\n",
    "for(i in unique(tseT$celltype)){\n",
    "  tsg[[i]]<-tseT[which(tseT$celltype==i),1]\n",
    "}\n",
    "tissues<-names(tsg)\n",
    "\n",
    "# Coordinate GENE, CHR, START, and END\n",
    "coord<-read.table(gene_coord,h=T)\n",
    "gene_info<-data.frame(GENE=coord$gene_id,CHR=coord$chr,START=coord$start_pos,END=coord$end_pos)\n",
    "write.table(gene_info,file=str_glue(\"{out_dir}/ENSSSCG_coord.txt\"),\n",
    "            row.names = F,quote = F,sep=\"\\t\")\n",
    "\n",
    "# make annotation\n",
    "make_annot<-function(tissue,out_dir,plink_dir){\n",
    "  out_dir2<-str_glue(\"{out_dir}/{tissue}\")\n",
    "  dir.create(out_dir2,showWarnings = F)\n",
    "  write.table(tsg[[tissue]],file=str_glue(\"{out_dir2}/tsg.txt\"),row.names = F,col.names = F,quote = F)\n",
    "  for(chr in 1:22){\n",
    "    cmd<-str_glue(\"/disk212/xieqq/miniconda3/envs/ldsc/bin/python2 /disk213/xieqq/JINHUA138.sc/ldsc-master/make_annot.py --gene-set-file {out_dir2}/tsg.txt --gene-coord-file {out_dir}/ENSSSCG_coord.txt --windowsize 100000 --bimfile {plink_dir}/1000G.EAS.QC.{chr}.bim --annot-file {out_dir2}/baseline.{chr}.annot.gz\")\n",
    "    system(cmd)\n",
    "  }\n",
    "  return(NULL)\n",
    "}\n",
    "\n",
    "num_threads<-length(tissues)\n",
    "registerDoParallel(num_threads)\n",
    "results <- foreach(i = tissues, .combine = c) %dopar% {\n",
    "  make_annot(i,out_dir=out_dir,plink_dir=plink_dir)\n",
    "}\n",
    "\n",
    "# combine annotation and calculate LDSC\n",
    "ldsc_annot<-function(chr,plink_dir,out_dir){\n",
    "  annots<-map(tissues,~{\n",
    "    out_dir2<-str_glue(\"{out_dir}/{.x}\")\n",
    "    annot<-fread(str_glue(\"{out_dir2}/baseline.{chr}.annot.gz\"))\n",
    "    colnames(annot)[5]<-.x\n",
    "    return(annot)\n",
    "  })\n",
    "  \n",
    "  annot_all<-reduce(annots,merge)\n",
    "  annot_all<-add_column(annot_all,1,.after=\"BP\")\n",
    "  colnames(annot_all)[5]<-\"ALL\"\n",
    "  bim<-fread(str_glue(\"{plink_dir}/1000G.EAS.QC.{chr}.bim\"))\n",
    "  annot_all<-annot_all[match(bim$V2,annot_all$SNP),]\n",
    "  fwrite(annot_all,file=str_glue(\"{out_dir}/baseline.{chr}.annot\"),row.names=F,quote=F,sep=\"\\t\")\n",
    "  \n",
    "  cmd<-str_glue(\"gzip -f {out_dir}/baseline.{chr}.annot\")\n",
    "  system(cmd)\n",
    "  cmd<-str_glue(\"/disk212/xieqq/miniconda3/envs/ldsc/bin/python2 /disk213/xieqq/JINHUA138.sc/ldsc-master/ldsc.py --l2 --bfile {plink_dir}/1000G.EAS.QC.{chr} --ld-wind-kb 500.0 --annot {out_dir}/baseline.{chr}.annot.gz --out {out_dir}/baseline.{chr}\")\n",
    "  system(cmd)\n",
    "  \n",
    "  return(NULL)\n",
    "}\n",
    "\n",
    "num_threads<-22\n",
    "registerDoParallel(num_threads)\n",
    "results <- foreach(i = 1:22, .combine = c) %dopar% {\n",
    "  ldsc_annot(i,plink_dir=plink_dir,out_dir=out_dir)\n",
    "}\n"
   ]
  },
  {
   "cell_type": "markdown",
   "id": "cd34267f",
   "metadata": {},
   "source": [
    "# gsMap"
   ]
  },
  {
   "cell_type": "code",
   "execution_count": null,
   "id": "89d10ac0",
   "metadata": {},
   "outputs": [],
   "source": [
    "import scanpy as sc"
   ]
  },
  {
   "cell_type": "code",
   "execution_count": null,
   "id": "30ee7a4f",
   "metadata": {},
   "outputs": [],
   "source": [
    "gsmap --version"
   ]
  },
  {
   "cell_type": "code",
   "execution_count": null,
   "id": "d6e1c9e7",
   "metadata": {},
   "outputs": [],
   "source": [
    "os.chdir('/disk213/xieqq/JINHUA138.sc/gsMap')"
   ]
  },
  {
   "cell_type": "code",
   "execution_count": null,
   "id": "879ee992",
   "metadata": {},
   "outputs": [],
   "source": [
    "adata = sc.read_h5ad(\"gsMap_example_data/ST/E16.5_E1S1.MOSTA.h5ad\")  "
   ]
  },
  {
   "cell_type": "code",
   "execution_count": null,
   "id": "8c008a60",
   "metadata": {},
   "outputs": [],
   "source": [
    "os.chdir('/disk213/xieqq/Yexw/gsMap')\n",
    "priority_genes = pd.read_csv(\"/disk212/yexw/wgs/ASF/3_2/2_7_gene_score/1_top_genes.csv\",index_col=None)\n",
    "gene_list = priority_genes['Gene_Name'].tolist()\n",
    "gene_list = [g.capitalize() for g in gene_list]\n",
    "found_genes = set(gene_list) & set(adata.var_names)\n",
    "\n",
    "sc.tl.score_genes(adata, found_genes, score_name='gene_signature_score')"
   ]
  },
  {
   "cell_type": "code",
   "execution_count": null,
   "id": "7ec45990",
   "metadata": {},
   "outputs": [],
   "source": [
    "sc.pl.spatial(adata,img_key=\"hires\",color=['gene_signature_score'],spot_size=1.5,save='_E16.5_E1S1.MOSTA_priority_genes.pdf')"
   ]
  },
  {
   "cell_type": "code",
   "execution_count": null,
   "id": "55cfae6c",
   "metadata": {},
   "outputs": [],
   "source": [
    "sc.pl.spatial(adata,img_key=\"hires\",color=\"annotation\",spot_size=1.5,save='_E16.5_E1S1.MOSTA.pdf')"
   ]
  },
  {
   "cell_type": "code",
   "execution_count": null,
   "id": "04822387",
   "metadata": {},
   "outputs": [],
   "source": [
    "adata.obs['CellSelect'] = adata.obs['annotation'].apply(lambda x: 'GI tract' if x == 'GI tract' else 'NA')"
   ]
  },
  {
   "cell_type": "code",
   "execution_count": null,
   "id": "08dba701",
   "metadata": {},
   "outputs": [],
   "source": [
    "sc.pl.spatial(adata,img_key=\"hires\",color=\"CellSelect\",spot_size=1.5)"
   ]
  },
  {
   "cell_type": "markdown",
   "id": "88fa571a",
   "metadata": {},
   "source": [
    "## Quick Mode"
   ]
  },
  {
   "cell_type": "code",
   "execution_count": null,
   "id": "e53e4f87",
   "metadata": {},
   "outputs": [],
   "source": [
    "wget https://portals.broadinstitute.org/collaboration/giant/images/4/4e/GIANT_HEIGHT_YENGO_2022_GWAS_SUMMARY_STATS_ALL.gz\n",
    "gzip -d GIANT_HEIGHT_YENGO_2022_GWAS_SUMMARY_STATS_ALL.gz\n",
    "\n",
    "gsmap format_sumstats \\\n",
    "--sumstats 'GIANT_HEIGHT_YENGO_2022_GWAS_SUMMARY_STATS_ALL' \\\n",
    "--out 'HEIGHT'\n",
    "\n",
    "zcat HEIGHT.sumstats.gz | head -n 5"
   ]
  },
  {
   "cell_type": "code",
   "execution_count": null,
   "id": "bbc6cb17",
   "metadata": {},
   "outputs": [],
   "source": [
    "wget https://yanglab.westlake.edu.cn/data/gsMap/gsMap_resource.tar.gz\n",
    "tar -xvzf gsMap_resource.tar.gz"
   ]
  },
  {
   "cell_type": "code",
   "execution_count": null,
   "id": "ce3c0cad",
   "metadata": {},
   "outputs": [],
   "source": [
    "wget https://yanglab.westlake.edu.cn/data/gsMap/gsMap_example_data.tar.gz\n",
    "tar -xvzf gsMap_example_data.tar.gz"
   ]
  },
  {
   "cell_type": "code",
   "execution_count": null,
   "id": "1efd286b",
   "metadata": {},
   "outputs": [],
   "source": [
    "adata = sc.read_h5ad(\"gsMap_example_data/human_intestine/Spatial_Human_majority_voting.h5ad\")  "
   ]
  },
  {
   "cell_type": "code",
   "execution_count": null,
   "id": "99c8be6a",
   "metadata": {},
   "outputs": [],
   "source": [
    "adata = sc.read_h5ad(\"gsMap_example_data/ST/E16.5_E1S1.MOSTA.h5ad\")  "
   ]
  },
  {
   "cell_type": "code",
   "execution_count": null,
   "id": "b6ba7c95",
   "metadata": {},
   "outputs": [],
   "source": [
    "# 1. find latent representations (optional)\n",
    "gsmap run_find_latent_representations \\\n",
    "    --workdir './example/Mouse_Embryo' \\\n",
    "    --sample_name 'E16.5_E1S1.MOSTA' \\\n",
    "    --input_hdf5_path 'gsMap_example_data/ST/E16.5_E1S1.MOSTA.h5ad' \\\n",
    "    --annotation 'annotation' \\\n",
    "    --data_layer 'count'"
   ]
  },
  {
   "cell_type": "code",
   "execution_count": null,
   "id": "c817c8ce",
   "metadata": {},
   "outputs": [],
   "source": [
    "# 2. generate gene specificity scores\n",
    "gsmap run_latent_to_gene \\\n",
    "    --workdir './example/Mouse_Embryo' \\\n",
    "    --sample_name 'E16.5_E1S1.MOSTA' \\\n",
    "    --annotation 'annotation' \\\n",
    "    --latent_representation 'latent_GVAE' \\\n",
    "    --num_neighbour 51 \\\n",
    "    --num_neighbour_spatial 201 \\\n",
    "    --homolog_file 'gsMap_resource/homologs/mouse_human_homologs.txt'"
   ]
  },
  {
   "cell_type": "code",
   "execution_count": null,
   "id": "b415c096",
   "metadata": {},
   "outputs": [],
   "source": [
    "# 3. generate ldscore\n",
    "for CHROM in {1..22}\n",
    "do\n",
    "    gsmap run_generate_ldscore \\\n",
    "        --workdir './example/Mouse_Embryo' \\\n",
    "        --sample_name 'E16.5_E1S1.MOSTA' \\\n",
    "        --chrom $CHROM \\\n",
    "        --bfile_root '/disk213/xieqq/JINHUA138/Single_cell_analysis.10.LDSC/data/1000G_EAS_Phase3_plink/1000G.EAS.QC' \\\n",
    "        --keep_snp_root 'gsMap_resource/LDSC_resource/hapmap3_snps/EAS_hm3' \\\n",
    "        --gtf_annotation_file 'gsMap_resource/genome_annotation/gtf/gencode.v39lift37.annotation.gtf' \\\n",
    "        --gene_window_size 50000\n",
    "done"
   ]
  },
  {
   "cell_type": "code",
   "execution_count": null,
   "id": "babe1bda",
   "metadata": {},
   "outputs": [],
   "source": [
    "# 4. spatial ldsc\n",
    "gsmap run_spatial_ldsc \\\n",
    "    --workdir './example/Mouse_Embryo' \\\n",
    "    --sample_name 'E16.5_E1S1.MOSTA' \\\n",
    "    --trait_name 'ApolipoproteinB_UKBiobank' \\\n",
    "    --sumstats_file '/disk213/xieqq/JINHUA138/Single_cell_analysis.10.LDSC/data/all_sumstats_pass/LDSCORE_all_sumstats_UKB_460K.biochemistry_ApolipoproteinB.sumstats.gz' \\\n",
    "    --w_file '/disk213/xieqq/JINHUA138/Single_cell_analysis.10.LDSC/data/1000G_EAS_Phase3_weights_hm3_no_MHC/weights.EAS.hm3_noMHC.' \\\n",
    "    --num_processes 4"
   ]
  },
  {
   "cell_type": "code",
   "execution_count": null,
   "id": "0d845a77",
   "metadata": {},
   "outputs": [],
   "source": [
    "# 5. cauchy combination (optional)\n",
    "gsmap run_cauchy_combination \\\n",
    "    --workdir './example/Mouse_Embryo' \\\n",
    "    --sample_name 'E16.5_E1S1.MOSTA' \\\n",
    "    --trait_name 'Cholesterol_UKBiobank' \\\n",
    "    --annotation 'annotation'"
   ]
  },
  {
   "cell_type": "code",
   "execution_count": null,
   "id": "0f59b3ec",
   "metadata": {},
   "outputs": [],
   "source": [
    "# 6. report generation (optional)\n",
    "gsmap run_report \\\n",
    "    --workdir './example/Mouse_Embryo' \\\n",
    "    --sample_name 'E16.5_E1S1.MOSTA' \\\n",
    "    --trait_name 'TotalBilirubin_UKBiobank' \\\n",
    "    --annotation 'annotation' \\ \n",
    "    --sumstats_file '/disk213/xieqq/JINHUA138/Single_cell_analysis.10.LDSC/data/all_sumstats_pass/LDSCORE_all_sumstats_UKB_460K.biochemistry_TotalBilirubin.sumstats.gz' \\\n",
    "    --top_corr_genes 50"
   ]
  }
 ],
 "metadata": {
  "language_info": {
   "name": "python"
  }
 },
 "nbformat": 4,
 "nbformat_minor": 5
}
