{
 "cells": [
  {
   "cell_type": "markdown",
   "id": "932c6be7",
   "metadata": {},
   "source": [
    "# scMetabolism"
   ]
  },
  {
   "cell_type": "code",
   "execution_count": null,
   "id": "fdb45006",
   "metadata": {},
   "outputs": [],
   "source": [
    "library(scMetabolism)\n",
    "library(Seurat)\n",
    "library(ggplot2)\n",
    "library(rsvd)\n",
    "library(pheatmap)\n",
    "library(dplyr)"
   ]
  },
  {
   "cell_type": "code",
   "execution_count": null,
   "id": "1babb1d7",
   "metadata": {},
   "outputs": [],
   "source": [
    "setwd(\"/disk213/xieqq/JINHUA138.sc/scMetabolism\")"
   ]
  },
  {
   "cell_type": "code",
   "execution_count": null,
   "id": "302b8d0e",
   "metadata": {},
   "outputs": [],
   "source": [
    "pbmc = readRDS(\"/disk213/xieqq/JINHUA138.sc/RDS/Epithelial.rds\")\n",
    "#level=c('Enterocytes','Colonocytes','BEST4 enterocytes','EECs','Tuft','Goblet','Progenitor','TA','Stem')\n",
    "pbmc <- subset(pbmc, subset = CellType %in% c('Enterocytes','Colonocytes'))\n",
    "pbmc@meta.data$SEGMENT.TIME <- factor(pbmc@meta.data$SEGMENT.TIME, \n",
    "                                      levels=c(\"duodenum-0\",\"duodenum-60\",\"duodenum-90\",\"duodenum-180\",\"duodenum-240\",\n",
    "                                               \"jejunum-0\",\"jejunum-60\",\"jejunum-90\",\"jejunum-180\",\"jejunum-240\",\n",
    "                                               \"ileum-0\",\"ileum-60\",\"ileum-90\",\"ileum-180\",\"ileum-240\",\n",
    "                                               \"cecum-0\",\"cecum-60\",\"cecum-90\",\"cecum-180\",\"cecum-240\",\n",
    "                                               \"colon-0\",\"colon-60\",\"colon-90\",\"colon-180\",\"colon-240\"),\n",
    "                                      labels=c(\"01_duodenum-0\",\"02_duodenum-60\",\"03_duodenum-90\",\"04_duodenum-180\",\"05_duodenum-240\",\n",
    "                                               \"06_jejunum-0\",\"07_jejunum-60\",\"08_jejunum-90\",\"09_jejunum-180\",\"10_jejunum-240\",\n",
    "                                               \"11_ileum-0\",\"12_ileum-60\",\"13_ileum-90\",\"14_ileum-180\",\"15_ileum-240\",\n",
    "                                               \"16_cecum-0\",\"17_cecum-60\",\"18_cecum-90\",\"19_cecum-180\",\"20_cecum-240\",\n",
    "                                               \"21_colon-0\",\"22_colon-60\",\"23_colon-90\",\"24_colon-180\",\"25_colon-240\"))"
   ]
  },
  {
   "cell_type": "code",
   "execution_count": null,
   "id": "a935366f",
   "metadata": {},
   "outputs": [],
   "source": [
    "countexp.Seurat <- sc.metabolism.Seurat(obj = pbmc,\n",
    "                                        method = \"AUCell\",  #ssGSEA AUCell VISION GSVA\n",
    "                                        imputation = F,\n",
    "                                        ncores = 2,\n",
    "                                        metabolism.type = \"KEGG\")"
   ]
  },
  {
   "cell_type": "markdown",
   "id": "e1dcab2b",
   "metadata": {},
   "source": [
    "可视化"
   ]
  },
  {
   "cell_type": "code",
   "execution_count": null,
   "id": "80d7184d",
   "metadata": {},
   "outputs": [],
   "source": [
    "####heatmap\n",
    "metabolism <- countexp.Seurat\n",
    "df = data.frame(t(metabolism@assays[[\"METABOLISM\"]][[\"score\"]]))\n",
    "# rownames(df)\n",
    "# names(metabolism$`SEGMENT.TIME`) \n",
    "rownames(df) <- gsub(\".\", \"-\", rownames(df), fixed = TRUE)\n",
    "df = df[names(metabolism$`SEGMENT.TIME`),]\n",
    "df$orig.ident <- metabolism$`SEGMENT.TIME`\n",
    "write.csv(df, \"scMetabolism.csv\")\n",
    "\n",
    "avg_df =aggregate(df[,1:ncol(df)-1],list(df$orig.ident),mean)\n",
    "rownames(avg_df) = avg_df$Group.1\n",
    "avg_df=avg_df[,-1]\n",
    "avg_df <- as.data.frame(t(avg_df))\n",
    "\n",
    "data <- avg_df[,c(\"duodenum-0\",\"duodenum-60\",\"duodenum-90\",\"duodenum-180\",\"duodenum-240\",\n",
    "                  \"jejunum-0\",\"jejunum-60\",\"jejunum-90\",\"jejunum-180\",\"jejunum-240\",\n",
    "                  \"ileum-0\",\"ileum-60\",\"ileum-90\",\"ileum-180\",\"ileum-240\",\n",
    "                  \"cecum-0\",\"cecum-60\",\"cecum-90\",\"cecum-180\",\"cecum-240\",\n",
    "                  \"colon-0\",\"colon-60\",\"colon-90\",\"colon-180\",\"colon-240\")]\n",
    "write.csv(data, \"scMetabolism.matrix.csv\")\n",
    "\n",
    "kegg_inf <- read.csv(\"/disk213/xieqq/Software/KEGG/KEGG_map.csv\", row.names=1, check.names=F)\n",
    "metabolism_inf <- read.csv(\"scMetabolism.inf.csv\", check.names=F)\n",
    "metabolism_inf <- inner_join(metabolism_inf,kegg_inf[,c(1,4)],by=c(\"new_name\"=\"KEGG\"))\n",
    "\n",
    "data <- subset(data,rownames(data) %in% metabolism_inf$old_name)\n",
    "old_names <- metabolism_inf$old_name\n",
    "new_names <- metabolism_inf$new_name\n",
    "match_pos <- match(old_names, rownames(data))\n",
    "rownames(data)[match_pos] <- new_names[match_pos]\n",
    "\n",
    "annotation_row <- data.frame(Category=metabolism_inf$second_category)\n",
    "rownames(annotation_row) <- metabolism_inf$new_name\n",
    "\n",
    "annotation_col <- data.frame(Segment=sapply(strsplit(colnames(data), \"-\"), function(x) x[1]),\n",
    "                             Time=sapply(strsplit(colnames(data), \"-\"), function(x) x[2]))\n",
    "annotation_col$Time <- paste0(annotation_col$Time,\"d\")\n",
    "rownames(annotation_col) <- colnames(data)\n",
    "\n",
    "ann_colors=list(Segment=c('duodenum'='#E76F51','jejunum'='#F4A261','ileum'='#E9C46A','cecum'='#2A9D8F','colon'='#264653'),\n",
    "                Time=c('0d'='#FF595E','60d'='#FFCA3A','90d'='#8AC926','180d'='#1982C4','240d'='#6A4C93'))\n",
    "\n",
    "pheatmap(data, scale=\"row\", \n",
    "         annotation_colors=ann_colors, \n",
    "         annotation_col=annotation_col,\n",
    "         annotation_row=annotation_row,\n",
    "         show_rownames=T, show_colnames=T, cluster_rows=F, cluster_cols=F,\n",
    "         color=colorRampPalette(c(\"navy\",'white',\"firebrick3\"))(50),\n",
    "         filename=\"pheatmap.pdf\", width=12, height=12)"
   ]
  },
  {
   "cell_type": "code",
   "execution_count": null,
   "id": "9c5e4b83",
   "metadata": {},
   "outputs": [],
   "source": [
    "####Dotplot\n",
    "kegg_inf <- read.csv(\"/disk213/xieqq/Software/KEGG/KEGG_map.csv\", row.names=1, check.names=F)\n",
    "input.pathway <- data.frame(KEGG=rownames(countexp.Seurat@assays[[\"METABOLISM\"]][[\"score\"]]))\n",
    "input.pathway <- left_join(input.pathway,kegg_inf[,c(1,4)],by=\"KEGG\")\n",
    "input.pathway$inf <- paste0(input.pathway$second_category,\"_\",input.pathway$KEGG)\n",
    "rownames(countexp.Seurat@assays[[\"METABOLISM\"]][[\"score\"]]) <- input.pathway$inf\n",
    "\n",
    "p <- DotPlot.metabolism(obj = countexp.Seurat, \n",
    "                        pathway = input.pathway$inf, \n",
    "                        phenotype = \"SEGMENT.TIME\", \n",
    "                        norm = \"y\")\n",
    "pdf(file=\"DotPlot.pdf\", width=12, height=18)\n",
    "p\n",
    "dev.off()\n",
    "\n",
    "P <- p +\n",
    "     scale_color_gradient(limits=c(0,1), high=\"firebrick3\", low=\"white\")+\n",
    "     labs(x=\"\", y=\"\", title=\"\")+\n",
    "     theme_bw()+\n",
    "     theme(axis.text.x=element_text(angle=90,color=\"black\",size=12),\n",
    "           axis.text.y=element_text(color=\"black\",size=12),\n",
    "           axis.title.x=element_text(color=\"black\",size=16),\n",
    "           axis.title.y=element_text(color=\"black\",size=16),\n",
    "           legend.text=element_text(color=\"black\",size=12),\n",
    "           legend.title=element_text(color=\"black\",size=16),\n",
    "           panel.grid.major=element_blank(),\n",
    "           panel.grid.minor=element_blank())\n",
    "pdf(file=\"DotPlot1.pdf\", width=15, height=18)\n",
    "P\n",
    "dev.off()"
   ]
  },
  {
   "cell_type": "code",
   "execution_count": null,
   "id": "9fe8cc15",
   "metadata": {},
   "outputs": [],
   "source": [
    "BX <- BoxPlot.metabolism(obj = countexp.Seurat, pathway = input.pathway$inf[c(34:46)], phenotype = \"SEGMENT.TIME\", ncol = 2)\n",
    "BX <- BX+\n",
    "      labs(x=\"\", y=\"\", title=\"\")+\n",
    "      theme_bw()+\n",
    "      theme(axis.text.x=element_blank(),\n",
    "            axis.text.y=element_text(color=\"black\",size=12),\n",
    "            axis.title.x=element_text(color=\"black\",size=16),\n",
    "            axis.title.y=element_text(color=\"black\",size=16),\n",
    "            legend.text=element_text(color=\"black\",size=12),\n",
    "            legend.title=element_text(color=\"black\",size=16),\n",
    "            panel.grid.major=element_blank(),\n",
    "            panel.grid.minor=element_blank())\n",
    "# ggsave(\"BoxPlot_C.pdf\", plot=BX, width=15, height=14)\n",
    "# ggsave(\"BoxPlot_E.pdf\", plot=BX, width=15, height=4)\n",
    "# ggsave(\"BoxPlot_L.pdf\", plot=BX, width=15, height=16)\n",
    "ggsave(\"BoxPlot_A.pdf\", plot=BX, width=15, height=14)"
   ]
  },
  {
   "cell_type": "code",
   "execution_count": null,
   "id": "84b1f9ad",
   "metadata": {},
   "outputs": [],
   "source": [
    "for (i in c(\"Carbohydrate metabolism\",\"Energy metabolism\",\"Lipid metabolism\",\"Amino acid metabolism\")){\n",
    "      BX <- BoxPlot.metabolism(obj = countexp.Seurat, pathway = input.pathway$inf[which(input.pathway$second_category==i)], phenotype = \"SEGMENT.TIME\", ncol = 2)\n",
    "      BX <- BX + labs(x=\"\", y=\"\", title=\"\")+\n",
    "      theme_bw()+\n",
    "      theme(axis.text.x=element_blank(),\n",
    "            axis.text.y=element_text(color=\"black\",size=12),\n",
    "            axis.title.x=element_text(color=\"black\",size=16),\n",
    "            axis.title.y=element_text(color=\"black\",size=16),\n",
    "            legend.text=element_text(color=\"black\",size=12),\n",
    "            legend.title=element_text(color=\"black\",size=16),\n",
    "            panel.grid.major=element_blank(),\n",
    "            panel.grid.minor=element_blank())\n",
    "      ggsave(paste0(\"BoxPlot_\",i,\".pdf\"), plot=BX, width=15, height=14)\n",
    "}"
   ]
  }
 ],
 "metadata": {
  "language_info": {
   "name": "python"
  }
 },
 "nbformat": 4,
 "nbformat_minor": 5
}
