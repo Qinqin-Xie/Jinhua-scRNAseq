{
 "cells": [
  {
   "cell_type": "markdown",
   "id": "932c6be7",
   "metadata": {},
   "source": [
    "# scMetabolism"
   ]
  },
  {
   "cell_type": "code",
   "execution_count": null,
   "id": "fdb45006",
   "metadata": {},
   "outputs": [],
   "source": [
    "library(scMetabolism)\n",
    "library(Seurat)\n",
    "library(ggplot2)\n",
    "library(rsvd)\n",
    "library(pheatmap)\n",
    "library(dplyr)"
   ]
  },
  {
   "cell_type": "code",
   "execution_count": null,
   "id": "1babb1d7",
   "metadata": {},
   "outputs": [],
   "source": [
    "setwd(\"/disk213/xieqq/JINHUA138.sc/scMetabolism\")"
   ]
  },
  {
   "cell_type": "code",
   "execution_count": null,
   "id": "302b8d0e",
   "metadata": {},
   "outputs": [],
   "source": [
    "pbmc = readRDS(\"/disk213/xieqq/JINHUA138.sc/RDS/Epithelial.rds\")\n",
    "pbmc <- subset(pbmc, subset = CellType %in% c('Enterocytes','Colonocytes'))"
   ]
  },
  {
   "cell_type": "code",
   "execution_count": null,
   "id": "a935366f",
   "metadata": {},
   "outputs": [],
   "source": [
    "countexp.Seurat <- sc.metabolism.Seurat(obj = pbmc,\n",
    "                                        method = \"AUCell\",  #ssGSEA AUCell VISION GSVA\n",
    "                                        imputation = F,\n",
    "                                        ncores = 2,\n",
    "                                        metabolism.type = \"KEGG\")"
   ]
  },
  {
   "cell_type": "markdown",
   "id": "e1dcab2b",
   "metadata": {},
   "source": [
    "## 可视化"
   ]
  },
  {
   "cell_type": "code",
   "execution_count": null,
   "id": "bbfdd3ba",
   "metadata": {},
   "outputs": [],
   "source": [
    "library(ggplot2)\n",
    "library(RColorBrewer)\n",
    "library(reshape2)\n",
    "library(ggforce)"
   ]
  },
  {
   "cell_type": "code",
   "execution_count": null,
   "id": "27397275",
   "metadata": {},
   "outputs": [],
   "source": [
    "metabolism <- countexp.Seurat\n",
    "df = data.frame(t(metabolism@assays[[\"METABOLISM\"]][[\"score\"]]))\n",
    "write.csv(df, \"scMetabolism.csv\")"
   ]
  },
  {
   "cell_type": "code",
   "execution_count": null,
   "id": "1c9b658b",
   "metadata": {},
   "outputs": [],
   "source": [
    "df$orig.ident <- factor(df$orig.ident,levels=c(\"small_0\",\"small_60\",\"small_90\",\"small_180\",\"small_240\",\"large_0\",\"large_60\",\"large_90\",\"large_180\",\"large_240\"),\n",
    "                        labels=c(\"01_small_0\",\"02_small_60\",\"03_small_90\",\"04_small_180\",\"05_small_240\",\"06_large_0\",\"07_large_60\",\"08_large_90\",\"09_large_180\",\"10_large_240\"))\n",
    "avg_df <- aggregate(df[,1:84],list(df$orig.ident),mean)\n",
    "rownames(avg_df) <- avg_df$Group.1\n",
    "avg_df <- avg_df[,-1]\n",
    "avg_df <- as.data.frame(t(avg_df))\n",
    "write.csv(avg_df, \"scMetabolism.matrix.SL.csv\")"
   ]
  },
  {
   "cell_type": "code",
   "execution_count": null,
   "id": "84b1f9ad",
   "metadata": {},
   "outputs": [],
   "source": [
    "data <- avg_df\n",
    "kegg_inf <- read.csv(\"/disk213/xieqq/Software/KEGG/KEGG_map.csv\", row.names=1, check.names=F)\n",
    "metabolism_inf <- read.csv(\"scMetabolism.inf.csv\", check.names=F)\n",
    "metabolism_inf <- inner_join(metabolism_inf,kegg_inf[,c(1,4)],by=c(\"new_name\"=\"KEGG\"))\n",
    "\n",
    "data <- subset(data,rownames(data) %in% metabolism_inf$old_name)\n",
    "old_names <- metabolism_inf$old_name\n",
    "new_names <- metabolism_inf$new_name\n",
    "match_pos <- match(old_names, rownames(data))\n",
    "rownames(data)[match_pos] <- new_names[match_pos]\n",
    "\n",
    "annotation_row <- data.frame(Category=metabolism_inf$second_category)\n",
    "rownames(annotation_row) <- metabolism_inf$new_name\n",
    "\n",
    "annotation_col <- data.frame(Segment=sapply(strsplit(colnames(data), \"-\"), function(x) x[1]),\n",
    "                             Time=sapply(strsplit(colnames(data), \"-\"), function(x) x[2]))\n",
    "annotation_col$Time <- paste0(annotation_col$Time,\"d\")\n",
    "rownames(annotation_col) <- colnames(data)"
   ]
  },
  {
   "cell_type": "code",
   "execution_count": null,
   "id": "39e8a26f",
   "metadata": {},
   "outputs": [],
   "source": [
    "breaks_values <- seq(-2, 2, length.out = 51) \n",
    "pheatmap(data, scale=\"row\", \n",
    "         annotation_colors=ann_colors,\n",
    "         annotation_row=annotation_row,\n",
    "         show_rownames=T, show_colnames=T, cluster_rows=F, cluster_cols=F,\n",
    "         color=colorRampPalette(c(\"navy\",'white',\"firebrick3\"))(50),\n",
    "         breaks=breaks_values, \n",
    "         filename=\"pheatmap.pdf\", width=12, height=12)"
   ]
  },
  {
   "cell_type": "code",
   "execution_count": null,
   "id": "f677c915",
   "metadata": {},
   "outputs": [],
   "source": [
    "new_name=\"Carbohydrate metabolism\"\n",
    "input.pathway.new <- input.pathway[which(input.pathway$second_category==new_name),]\n",
    "\n",
    "data <- matrix(data=NA,nrow=10,ncol=10,dimnames=list(sort(unique(input.pathway$orig.ident)),sort(unique(input.pathway$orig.ident))))\n",
    "data <- as.data.frame(data)\n",
    "data$group1 <- rownames(data)\n",
    "data <- data %>% pivot_longer(cols=-group1, names_to=\"group2\", values_to=\"p_value\")\n",
    "\n",
    "for (i in 1:100){\n",
    "  group1=input.pathway.new$Value[which(input.pathway.new$orig.ident==data$group1[i])]\n",
    "  group2=input.pathway.new$Value[which(input.pathway.new$orig.ident==data$group2[i])]\n",
    "  wilcox_test_result <- wilcox.test(group1, group2)\n",
    "  p_value <- wilcox_test_result$p.value\n",
    "  data[i,3] <- p_value\n",
    "}\n",
    "data$adjusted_p_value <- p.adjust(data$p_value, method=\"BH\") #aka \"fdr\"\n",
    "data$`-logpadj` <- -log10(data$adjusted_p_value)\n",
    "data[which(data$`-logpadj`==Inf),5] = max(data$`-logpadj`[which(data$`-logpadj`!=Inf)]+1)\n",
    "data$type=\"na\"\n",
    "data$type[which(data$adjusted_p_value<0.00001)]=\"*****\"\n",
    "data$type[which(data$adjusted_p_value<0.0001&data$adjusted_p_value>=0.00001)]=\"****\"\n",
    "data$type[which(data$adjusted_p_value<0.001&data$adjusted_p_value>=0.0001)]=\"***\"\n",
    "data$type[which(data$adjusted_p_value<0.01&data$adjusted_p_value>=0.001)]=\"**\"\n",
    "data$type[which(data$adjusted_p_value<0.05&data$adjusted_p_value>=0.01)]=\"*\"\n",
    "\n",
    "out <- data[,c(1,2,5)] %>% pivot_wider(names_from=\"group2\", values_from=\"-logpadj\")\n",
    "out = out[,-1]\n",
    "rownames(out) <- colnames(out)\n",
    "write.csv(out,paste0(\"-Log.Padj_ST_\",new_name,\".csv\"))\n",
    "\n",
    "Color <- brewer.pal(length(unique(data$type)), \"Set2\")\n",
    "data$group1 <- rep(1:10, each = 10)\n",
    "data$group2 <- rep(1:10, times = 10)\n",
    "\n",
    "Pout <- ggplot(data, aes(x0=group1, y0=group2, fill=type, r=0.5)) +\n",
    "  geom_circle(color=\"black\", linewidth=0.25) +\n",
    "  coord_fixed(ratio = 1)+\n",
    "  scale_fill_manual(name=\"P-adjusted\", \n",
    "                    values=c(\"*\"=\"#66C2A5\",\"**\"=\"#FC8D62\",\"***\"=\"#8DA0CB\",\"****\"=\"#E78AC3\",\"*****\"=\"#A6D854\",\"na\"=\"#FFD92F\"))+\n",
    "  theme_bw()+ \n",
    "  theme(axis.text.x=element_text(color=\"black\",size=16),\n",
    "        axis.text.y=element_text(color=\"black\",size=16),\n",
    "        axis.title.y=element_text(color=\"black\",size=16),\n",
    "        legend.text=element_text(color=\"black\",size=16),\n",
    "        legend.title=element_text(color=\"black\",size=16),\n",
    "        panel.grid.major=element_blank(),\n",
    "        panel.grid.minor=element_blank())\n",
    "ggsave(filename=paste0(\"DotMatrixChart_ST_\",new_name,\".pdf\"),plot=Pout,width=8,height=8)"
   ]
  },
  {
   "cell_type": "code",
   "execution_count": null,
   "id": "ba6d71de",
   "metadata": {},
   "outputs": [],
   "source": [
    "data <- read.csv(\"scMetabolism.matrix.SL.csv\",check.names=F)\n",
    "colnames(data)[1] <- \"KEGG\"\n",
    "data <- data %>% pivot_longer(cols=-KEGG, names_to=\"group\", values_to=\"value\")\n",
    "kegg_inf <- read.csv(\"/disk213/xieqq/Software/KEGG/KEGG_map.csv\", row.names=1, check.names=F)\n",
    "metabolism_inf <- read.csv(\"scMetabolism.inf.csv\", check.names=F)\n",
    "metabolism_inf <- inner_join(metabolism_inf,kegg_inf[,c(1,4)],by=c(\"new_name\"=\"KEGG\"))\n",
    "data <- left_join(data,metabolism_inf,by=c(\"KEGG\"=\"old_name\"))\n",
    "data <- subset(data, second_category %in% c(\"Carbohydrate metabolism\",\"Energy metabolism\",\"Lipid metabolism\",\"Amino acid metabolism\"))\n",
    "\n",
    "analyse <- aggregate(data$value, by=list(group=data$group,second_category=data$second_category), mean)\n",
    "analyse$second_category <- factor(analyse$second_category,levels=c(\"Carbohydrate metabolism\",\"Energy metabolism\",\"Lipid metabolism\",\"Amino acid metabolism\"))\n",
    "write.csv(analyse, \"scMetabolism.matrix.SL.line.csv\")\n",
    "\n",
    "Px <- ggplot(analyse, aes(x=group, y=x, group=second_category, color=second_category)) +\n",
    "  geom_line(linewidth=1)+\n",
    "  geom_point(size=2)+\n",
    "  scale_colour_manual(values=c(\"#ccdf69\",\"#54b45d\",\"#2350a1\",\"#a89f82\"))+\n",
    "  labs(x=\"\", y=\"\", title=\"\", color=\"\")+\n",
    "  theme_bw()+\n",
    "  theme(axis.text.x=element_text(angle=90,color=\"black\",size=12),\n",
    "        axis.text.y=element_text(color=\"black\",size=12),\n",
    "        axis.title.x=element_text(color=\"black\",size=16),\n",
    "        axis.title.y=element_text(color=\"black\",size=16),\n",
    "        legend.text=element_text(color=\"black\",size=14),\n",
    "        legend.title=element_text(color=\"black\",size=14),\n",
    "        panel.grid.major=element_blank(),\n",
    "        panel.grid.minor=element_blank())\n",
    "ggsave(filename=\"LinePlot.SL.pdf\",plot=Px,width=10,height=7)\n"
   ]
  }
 ],
 "metadata": {
  "language_info": {
   "name": "python"
  }
 },
 "nbformat": 4,
 "nbformat_minor": 5
}
