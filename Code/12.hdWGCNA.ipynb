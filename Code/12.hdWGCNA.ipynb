{
 "cells": [
  {
   "attachments": {},
   "cell_type": "markdown",
   "metadata": {},
   "source": [
    "# **WGCNA**"
   ]
  },
  {
   "attachments": {},
   "cell_type": "markdown",
   "metadata": {},
   "source": [
    "## **Global settings**"
   ]
  },
  {
   "cell_type": "code",
   "execution_count": 1,
   "metadata": {},
   "outputs": [],
   "source": [
    "import numpy as np\n",
    "import pandas as pd\n",
    "import matplotlib.pyplot as plt\n",
    "from matplotlib import rcParams\n",
    "from matplotlib.pyplot import rc_context\n",
    "import scanpy as sc\n",
    "import scvelo as scv\n",
    "import scipy.io\n",
    "import os\n",
    "import math\n",
    "import gseapy as gp\n",
    "from gseapy.plot import barplot, dotplot, gseaplot\n",
    "from gseapy.scipalette import SciPalette\n",
    "from pylab import *\n",
    "from matplotlib.colors import ListedColormap,LinearSegmentedColormap "
   ]
  },
  {
   "cell_type": "code",
   "execution_count": 2,
   "metadata": {},
   "outputs": [],
   "source": [
    "sc.settings.set_figure_params(dpi=100, dpi_save=300, figsize=(5, 5))"
   ]
  },
  {
   "cell_type": "code",
   "execution_count": null,
   "metadata": {},
   "outputs": [
    {
     "data": {
      "text/plain": [
       "'/disk213/xieqq/sc'"
      ]
     },
     "metadata": {},
     "output_type": "display_data"
    }
   ],
   "source": [
    "os.getcwd()"
   ]
  },
  {
   "cell_type": "code",
   "execution_count": 3,
   "metadata": {},
   "outputs": [],
   "source": [
    "os.chdir('/disk213/xieqq/sc')"
   ]
  },
  {
   "cell_type": "markdown",
   "metadata": {},
   "source": [
    "## WGCNA"
   ]
  },
  {
   "cell_type": "code",
   "execution_count": null,
   "metadata": {
    "vscode": {
     "languageId": "r"
    }
   },
   "outputs": [],
   "source": [
    "# devtools::install_github('smorabit/hdWGCNA', ref='dev')\n",
    "# devtools::install_local(\"/disk213/xieqq/sc/WGCNA/smorabit-hdWGCNA-v0.1.1-63-g76da474.tar.gz\")"
   ]
  },
  {
   "cell_type": "code",
   "execution_count": null,
   "metadata": {
    "vscode": {
     "languageId": "r"
    }
   },
   "outputs": [],
   "source": [
    "# single-cell analysis package\n",
    "library(Seurat)\n",
    "\n",
    "# plotting and data science packages\n",
    "library(tidyverse)\n",
    "library(cowplot)\n",
    "library(patchwork)\n",
    "\n",
    "# co-expression network analysis packages:\n",
    "library(WGCNA)\n",
    "library(hdWGCNA)\n",
    "\n",
    "# network analysis & visualization package:\n",
    "library(igraph)\n",
    "\n",
    "# using the cowplot theme for ggplot\n",
    "theme_set(theme_cowplot())\n",
    "\n",
    "# set random seed for reproducibility\n",
    "set.seed(12345)\n",
    "\n",
    "# optionally enable multithreading\n",
    "enableWGCNAThreads(nThreads = 8)"
   ]
  },
  {
   "cell_type": "code",
   "execution_count": null,
   "metadata": {
    "vscode": {
     "languageId": "r"
    }
   },
   "outputs": [],
   "source": [
    "setwd(\"/disk213/xieqq/JINHUA138.sc/WGCNA\")\n",
    "seurat_obj <- readRDS(\"/disk213/xieqq/JINHUA138.sc/RDS/Epithelial.rds\")"
   ]
  },
  {
   "cell_type": "code",
   "execution_count": null,
   "metadata": {
    "vscode": {
     "languageId": "r"
    }
   },
   "outputs": [],
   "source": [
    "seurat_obj <- subset(seurat_obj, subset = SEGMENT == \"duodenum\" & TIME == \"0\")\n",
    "setwd(\"/disk213/xieqq/sc/WGCNA/DU_0_E\")"
   ]
  },
  {
   "cell_type": "code",
   "execution_count": null,
   "metadata": {
    "vscode": {
     "languageId": "r"
    }
   },
   "outputs": [],
   "source": [
    "seurat_obj <- SetupForWGCNA(\n",
    "    seurat_obj,\n",
    "    gene_select = \"fraction\",\n",
    "    fraction = 0.05,\n",
    "    wgcna_name = \"tutorial\" # hdWGCNA实验名称\n",
    ")"
   ]
  },
  {
   "cell_type": "code",
   "execution_count": null,
   "metadata": {
    "vscode": {
     "languageId": "r"
    }
   },
   "outputs": [],
   "source": [
    "# metacell\n",
    "seurat_obj <- MetacellsByGroups(\n",
    "    seurat_obj = seurat_obj,\n",
    "    group.by = c(\"CellType\",\"PRO1_JH\"),  \n",
    "    reduction = \"harmony\", \n",
    "    k = 25,\n",
    "    max_shared = 10, \n",
    "    ident.group = \"CellType\"  \n",
    ")\n",
    "\n",
    "seurat_obj <- NormalizeMetacells(seurat_obj)"
   ]
  },
  {
   "cell_type": "code",
   "execution_count": null,
   "metadata": {
    "vscode": {
     "languageId": "r"
    }
   },
   "outputs": [],
   "source": [
    "head(seurat_obj@misc$tutorial$wgcna_metacell_obj, 2)"
   ]
  },
  {
   "cell_type": "code",
   "execution_count": null,
   "metadata": {
    "vscode": {
     "languageId": "r"
    }
   },
   "outputs": [],
   "source": [
    "# group_name = \"Enterocytes\"\n",
    "group_name = \"Colonocytes\"\n",
    "# group_name = c(\"Enterocytes\",\"Colonocytes\",\"BEST4 enterocytes\",\"EECs\",\"Tuft\",\"Goblet\",\"TA\",\"Stem\",\"Progenitor\")"
   ]
  },
  {
   "cell_type": "code",
   "execution_count": null,
   "metadata": {
    "vscode": {
     "languageId": "r"
    }
   },
   "outputs": [],
   "source": [
    "setwd(paste0(\"./\",group_name))"
   ]
  },
  {
   "cell_type": "code",
   "execution_count": null,
   "metadata": {
    "vscode": {
     "languageId": "r"
    }
   },
   "outputs": [],
   "source": [
    "seurat_obj <- SetDatExpr(\n",
    "    seurat_obj,\n",
    "    group_name = group_name, \n",
    "    group.by = \"CellType\", \n",
    "    assay = \"RNA\",\n",
    "    slot = \"data\"\n",
    ")"
   ]
  },
  {
   "cell_type": "code",
   "execution_count": null,
   "metadata": {
    "vscode": {
     "languageId": "r"
    }
   },
   "outputs": [],
   "source": [
    "# Soft power\n",
    "seurat_obj <- TestSoftPowers(\n",
    "    seurat_obj,\n",
    "    networkType = \"signed\" \n",
    ")\n",
    "\n",
    "plot_list <- PlotSoftPowers(seurat_obj)\n",
    "\n",
    "#wrap_plots(plot_list, ncol=2)"
   ]
  },
  {
   "cell_type": "code",
   "execution_count": null,
   "metadata": {
    "vscode": {
     "languageId": "r"
    }
   },
   "outputs": [],
   "source": [
    "pdf(file=paste0(\"Soft_power_\",group_name,\".pdf\"), width=12, height=8)\n",
    "wrap_plots(plot_list, ncol=2)\n",
    "dev.off()"
   ]
  },
  {
   "cell_type": "code",
   "execution_count": null,
   "metadata": {
    "vscode": {
     "languageId": "r"
    }
   },
   "outputs": [],
   "source": [
    "power_table <- GetPowerTable(seurat_obj)\n",
    "write.csv(power_table, paste0(\"Soft_power_\",group_name,\".csv\"), row.names =F)"
   ]
  },
  {
   "cell_type": "code",
   "execution_count": null,
   "metadata": {
    "vscode": {
     "languageId": "r"
    }
   },
   "outputs": [],
   "source": [
    "# construct co-expression network:\n",
    "seurat_obj <- ConstructNetwork(\n",
    "    seurat_obj, soft_power = 12, \n",
    "    setDatExpr = FALSE,\n",
    "    tom_name = group_name \n",
    ")\n",
    "\n",
    "#PlotDendrogram(seurat_obj, main='Enterocytes hdWGCNA Dendrogram')"
   ]
  },
  {
   "cell_type": "code",
   "execution_count": null,
   "metadata": {
    "vscode": {
     "languageId": "r"
    }
   },
   "outputs": [],
   "source": [
    "pdf(file=paste0(\"hdWGCNA_Dendrogram_\",group_name,\".pdf\"), width=12, height=8)\n",
    "PlotDendrogram(seurat_obj, main=paste0(group_name,\" hdWGCNA Dendrogram\"))\n",
    "dev.off()"
   ]
  },
  {
   "cell_type": "code",
   "execution_count": null,
   "metadata": {
    "vscode": {
     "languageId": "r"
    }
   },
   "outputs": [],
   "source": [
    "seurat_obj@misc$tutorial$wgcna_modules %>% head\n",
    "table(seurat_obj@misc$tutorial$wgcna_modules$module)\n",
    "write.csv(seurat_obj@misc$tutorial$wgcna_modules,paste0(\"wgcna_modules_\",group_name,\".csv\"), row.names =F)\n",
    "write.csv(table(seurat_obj@misc$tutorial$wgcna_modules$module),paste0(\"wgcna_modules_count_\",group_name,\".csv\"), row.names =F)"
   ]
  },
  {
   "cell_type": "code",
   "execution_count": null,
   "metadata": {
    "vscode": {
     "languageId": "r"
    }
   },
   "outputs": [],
   "source": [
    "TOM <- GetTOM(seurat_obj)\n",
    "write.csv(TOM,paste0(\"TOM_\",group_name,\".csv\"), row.names =T)"
   ]
  },
  {
   "cell_type": "code",
   "execution_count": null,
   "metadata": {
    "vscode": {
     "languageId": "r"
    }
   },
   "outputs": [],
   "source": [
    "# Scale\n",
    "seurat_obj <- ScaleData(seurat_obj, features = VariableFeatures(seurat_obj))\n",
    "\n",
    "seurat_obj <- ModuleEigengenes(\n",
    "    seurat_obj,\n",
    "    group.by.vars = \"PRO1_JH\"  \n",
    ")"
   ]
  },
  {
   "cell_type": "code",
   "execution_count": null,
   "metadata": {
    "vscode": {
     "languageId": "r"
    }
   },
   "outputs": [],
   "source": [
    "# compute eigengene-based connectivity (kME):\n",
    "seurat_obj <- ModuleConnectivity(\n",
    "    seurat_obj,\n",
    "    group.by = 'CellType', \n",
    "    group_name = group_name  \n",
    ")\n",
    "\n",
    "# module\n",
    "seurat_obj <- ResetModuleNames(\n",
    "    seurat_obj,\n",
    "    new_name = paste0(group_name,\"-M\")\n",
    ")"
   ]
  },
  {
   "cell_type": "code",
   "execution_count": null,
   "metadata": {
    "vscode": {
     "languageId": "r"
    }
   },
   "outputs": [],
   "source": [
    "pdf(file=paste0(\"hdWGCNA_ModulekME_\",group_name,\".pdf\"), width=24, height=8)\n",
    "PlotKMEs(seurat_obj, ncol = 4, n_hubs = 10)\n",
    "dev.off()"
   ]
  },
  {
   "cell_type": "code",
   "execution_count": null,
   "metadata": {
    "vscode": {
     "languageId": "r"
    }
   },
   "outputs": [],
   "source": [
    "# get the module assignment table:\n",
    "modules <- GetModules(seurat_obj)\n",
    "\n",
    "# topN hub\n",
    "hub_df <- GetHubGenes(seurat_obj = seurat_obj, n_hubs = 10)\n",
    "\n",
    "saveRDS(seurat_obj, file = paste0(\"hdWGCNA_object_\",group_name,\".rds\"))"
   ]
  },
  {
   "cell_type": "code",
   "execution_count": null,
   "metadata": {
    "vscode": {
     "languageId": "r"
    }
   },
   "outputs": [],
   "source": [
    "write.csv(modules,paste0(\"Module_assignment_\",group_name,\".csv\"))\n",
    "write.csv(hub_df,paste0(\"Module_hub_\",group_name,\".csv\"))"
   ]
  },
  {
   "cell_type": "code",
   "execution_count": null,
   "metadata": {
    "vscode": {
     "languageId": "r"
    }
   },
   "outputs": [],
   "source": [
    "seurat_obj <- ModuleExprScore(\n",
    "    seurat_obj,\n",
    "    n_genes = 10, # topN hub genes\n",
    "    method = \"Seurat\" # Seurat、UCell\n",
    ")"
   ]
  },
  {
   "cell_type": "code",
   "execution_count": null,
   "metadata": {
    "vscode": {
     "languageId": "r"
    }
   },
   "outputs": [],
   "source": [
    "# group_name = \"Enterocytes\"\n",
    "group_name = \"Colonocytes\""
   ]
  },
  {
   "cell_type": "code",
   "execution_count": null,
   "metadata": {
    "vscode": {
     "languageId": "r"
    }
   },
   "outputs": [],
   "source": [
    "setwd(paste0(\"/disk213/xieqq/JINHUA138.sc/WGCNA/\",group_name))\n",
    "seurat_obj <- readRDS(paste0(\"hdWGCNA_object_\",group_name,\".rds\"))"
   ]
  },
  {
   "cell_type": "code",
   "execution_count": null,
   "metadata": {
    "vscode": {
     "languageId": "r"
    }
   },
   "outputs": [],
   "source": [
    "gene_set=c(\"PCK1\",\"APOE\")\n",
    "FeaturePlot(object = seurat_obj, features = gene_set, group.by = \"ident\", cols = c(\"blue\", \"red\", \"green\"))"
   ]
  },
  {
   "cell_type": "code",
   "execution_count": null,
   "metadata": {
    "vscode": {
     "languageId": "r"
    }
   },
   "outputs": [],
   "source": [
    "# get hMEs from seurat object\n",
    "MEs <- GetMEs(seurat_obj, harmonized=TRUE)\n",
    "MEs <- MEs %>% select(sort(names(MEs)))\n",
    "mods <- colnames(MEs); mods <- mods[mods != 'grey']\n",
    "\n",
    "# mods=c(\"Enterocytes-M5\",\"Enterocytes-M1\",\"Enterocytes-M4\",\"Enterocytes-M3\",\"Enterocytes-M7\",\"Enterocytes-M2\",\"Enterocytes-M6\")\n",
    "# mods=c(\"Colonocytes-M6\",\"Colonocytes-M4\",\"Colonocytes-M5\",\"Colonocytes-M2\",\"Colonocytes-M7\",\"Colonocytes-M1\",\"Colonocytes-M3\")\n",
    "\n",
    "# add hMEs to Seurat meta-data:\n",
    "seurat_obj@meta.data <- cbind(seurat_obj@meta.data, MEs)\n",
    "write.csv(MEs,paste0(\"MEs_\",group_name,\".csv\"))"
   ]
  },
  {
   "cell_type": "code",
   "execution_count": null,
   "metadata": {
    "vscode": {
     "languageId": "r"
    }
   },
   "outputs": [],
   "source": [
    "plot_list <- ModuleFeaturePlot(\n",
    "    seurat_obj,\n",
    "    #module_names = mods, #c(\"Enterocytes-M2\",\"Enterocytes-M3\",\"Enterocytes-M6\",\"Enterocytes-M7\"),\n",
    "    reduction = \"umap\",\n",
    "    features = 'hMEs', # MEs、hMEs、scores、average\n",
    "    order = TRUE # order so the points with highest hMEs are on top\n",
    ")\n",
    "\n",
    "# stitch together with patchwork\n",
    "wrap_plots(plot_list, ncol=4)\n",
    "\n",
    "pdf(file=paste0(\"hdWGCNA_ModulePlot_\",group_name,\"_hME.pdf\"), width=12, height=8)\n",
    "wrap_plots(plot_list, ncol=4)\n",
    "dev.off()"
   ]
  },
  {
   "cell_type": "code",
   "execution_count": null,
   "metadata": {
    "vscode": {
     "languageId": "r"
    }
   },
   "outputs": [],
   "source": [
    "ModuleCorrelogram(seurat_obj)\n",
    "\n",
    "pdf(file=paste0(\"hdWGCNA_ModuleCorrelogram_\",group_name,\".pdf\"), width=8, height=8)\n",
    "ModuleCorrelogram(seurat_obj)\n",
    "dev.off()"
   ]
  },
  {
   "cell_type": "code",
   "execution_count": null,
   "metadata": {
    "vscode": {
     "languageId": "r"
    }
   },
   "outputs": [],
   "source": [
    "seurat_obj@meta.data$SEGMENT <- factor(seurat_obj@meta.data$SEGMENT, levels=c(\"colon\",\"cecum\",\"ileum\",\"jejunum\",\"duodenum\"))\n",
    "\n",
    "p <- DotPlot(seurat_obj, features=mods, group.by=\"SEGMENT\", col.min=0, col.max=2, scale.min=0, scale.max=100) +\n",
    "     RotatedAxis() + \n",
    "     scale_color_gradient(limits=c(0,2),high=\"#08519C\", low=\"white\")\n",
    "p\n",
    "ggsave(filename=paste0(\"hdWGCNA_Module_SEGMENT_\",group_name,\".pdf\"), plot=p, width=8, height=8)"
   ]
  },
  {
   "cell_type": "code",
   "execution_count": null,
   "metadata": {
    "vscode": {
     "languageId": "r"
    }
   },
   "outputs": [],
   "source": [
    "seurat_obj@meta.data$TIME <- factor(seurat_obj@meta.data$TIME, levels=c(\"240\",\"180\",\"90\",\"60\",\"0\"))\n",
    "\n",
    "p <- DotPlot(seurat_obj, features=mods, group.by=\"TIME\", col.min=0, col.max=2, scale.min=0, scale.max=100) +\n",
    "     RotatedAxis() + \n",
    "     scale_color_gradient(limits=c(0,2),high=\"#08519C\", low=\"white\")\n",
    "p\n",
    "ggsave(filename=paste0(\"hdWGCNA_Module_TIME_\",group_name,\".pdf\"), plot=p, width=8, height=8)"
   ]
  },
  {
   "cell_type": "code",
   "execution_count": null,
   "metadata": {
    "vscode": {
     "languageId": "r"
    }
   },
   "outputs": [],
   "source": [
    "seurat_obj@meta.data$SEGMENT.TIME <- factor(seurat_obj@meta.data$SEGMENT.TIME, \n",
    "                                            levels=c(\"colon-240\",\"colon-180\",\"colon-90\",\"colon-60\",\"colon-0\",\n",
    "                                                     \"cecum-240\",\"cecum-180\",\"cecum-90\",\"cecum-60\",\"cecum-0\",\n",
    "                                                     \"ileum-240\",\"ileum-180\",\"ileum-90\",\"ileum-60\",\"ileum-0\",\n",
    "                                                     \"jejunum-240\",\"jejunum-180\",\"jejunum-90\",\"jejunum-60\",\"jejunum-0\",\n",
    "                                                     \"duodenum-240\",\"duodenum-180\",\"duodenum-90\",\"duodenum-60\",\"duodenum-0\"))\n",
    "\n",
    "p <- DotPlot(seurat_obj, features=mods, group.by=\"SEGMENT.TIME\", col.min=0, col.max=2, scale.min=0, scale.max=100) +\n",
    "     RotatedAxis() + \n",
    "     scale_color_gradient(limits=c(0,2),high=\"#08519C\", low=\"white\")\n",
    "p\n",
    "ggsave(filename=paste0(\"hdWGCNA_Module_SEG-TIME_\",group_name,\".pdf\"), plot=p, width=8, height=8)"
   ]
  },
  {
   "cell_type": "code",
   "execution_count": null,
   "metadata": {
    "vscode": {
     "languageId": "r"
    }
   },
   "outputs": [],
   "source": [
    "seurat_obj@meta.data$CellType <- factor(seurat_obj@meta.data$CellType, \n",
    "                                        levels=c('Stem','TA','Progenitor','Goblet','Tuft','EECs','BEST4enterocytes','Colonocytes','Enterocytes'),\n",
    "                                        labels=c('Stem','TA','Progenitor','Goblet','Tuft','EECs','BEST4 enterocytes','Colonocytes','Enterocytes'))\n",
    "\n",
    "p <- DotPlot(seurat_obj, features=mods, group.by=\"CellType\", col.min=0, col.max=2, scale.min=0, scale.max=100) +\n",
    "     RotatedAxis() + \n",
    "     scale_color_gradient(limits=c(0,2),high=\"#08519C\", low=\"white\")\n",
    "p\n",
    "ggsave(filename=paste0(\"hdWGCNA_Module_CellType_\",group_name,\".pdf\"), plot=p, width=8, height=8)"
   ]
  },
  {
   "cell_type": "code",
   "execution_count": null,
   "metadata": {
    "vscode": {
     "languageId": "r"
    }
   },
   "outputs": [],
   "source": [
    "My_levels <- c('Enterocytes','Colonocytes','BEST4 enterocytes','EECs','Tuft','Goblet','Progenitor','TA','Stem')\n",
    "seurat_obj$CellType <- factor(seurat_obj$CellType,levels=My_levels)\n",
    "My_colors <- c('#004B23','#007200','#38B000','#52B788','#95D5B2','#D8F3DC','#34A0A4','#1A759F','#184E77')"
   ]
  },
  {
   "cell_type": "code",
   "execution_count": null,
   "metadata": {
    "vscode": {
     "languageId": "r"
    }
   },
   "outputs": [],
   "source": [
    "plot_list <- lapply(mods, function(x) {\n",
    "  print(x)\n",
    "  p <- VlnPlot(\n",
    "    seurat_obj,\n",
    "    features = x,\n",
    "    group.by = 'CellType',\n",
    "    pt.size = 0 # don't show actual data points\n",
    "  )\n",
    "  p <- p + geom_boxplot(width = .25, fill = \"white\")+xlab(\"\") + ylab(\"hME\") + NoLegend() + scale_fill_manual(values = My_colors)\n",
    "  p\n",
    "})\n",
    "\n",
    "wrap_plots(plot_list, ncol = 4)"
   ]
  },
  {
   "cell_type": "code",
   "execution_count": null,
   "metadata": {
    "vscode": {
     "languageId": "r"
    }
   },
   "outputs": [],
   "source": [
    "pdf(file=paste0(\"hdWGCNA_violin_CellType_\",group_name,\".pdf\"), width=12, height=8)\n",
    "wrap_plots(plot_list, ncol = 4)\n",
    "dev.off()"
   ]
  },
  {
   "cell_type": "code",
   "execution_count": null,
   "metadata": {
    "vscode": {
     "languageId": "r"
    }
   },
   "outputs": [],
   "source": [
    "p <- VlnPlot(\n",
    "    seurat_obj,\n",
    "    features = \"Enterocytes-M2\",\n",
    "    group.by = \"CellType\",\n",
    "    pt.size = 0\n",
    ")\n",
    "p <- p + geom_boxplot(width = .25, fill = \"white\")+xlab(\"\") + ylab(\"hME\") + NoLegend()\n",
    "p"
   ]
  },
  {
   "cell_type": "code",
   "execution_count": null,
   "metadata": {
    "vscode": {
     "languageId": "r"
    }
   },
   "outputs": [],
   "source": [
    "FeaturePlot(seurat_obj, features=mods, ncol=4)"
   ]
  },
  {
   "cell_type": "code",
   "execution_count": null,
   "metadata": {
    "vscode": {
     "languageId": "r"
    }
   },
   "outputs": [],
   "source": [
    "pdf(file=paste0(\"hdWGCNA_umap_CellType_\",group_name,\".pdf\"), width=16, height=8)\n",
    "FeaturePlot(seurat_obj, features=mods, ncol=4)\n",
    "dev.off()"
   ]
  },
  {
   "cell_type": "code",
   "execution_count": null,
   "metadata": {
    "vscode": {
     "languageId": "r"
    }
   },
   "outputs": [],
   "source": [
    "# using the cowplot theme for ggplot\n",
    "theme_set(theme_cowplot())\n",
    "\n",
    "# set random seed for reproducibility\n",
    "set.seed(12345)  \n",
    "\n",
    "# ModuleNetworkPlot(seurat_obj = seurat_obj, mods = \"Colonocytes-M2\")"
   ]
  },
  {
   "cell_type": "code",
   "execution_count": null,
   "metadata": {
    "vscode": {
     "languageId": "r"
    }
   },
   "outputs": [],
   "source": [
    "pdf(file=paste0(\"hdWGCNA_ModuleNetworkPlot_all_\",group_name,\".pdf\"), width=8, height=8)\n",
    "HubGeneNetworkPlot(\n",
    "    seurat_obj,\n",
    "    n_hubs = 10, \n",
    "    n_other = 5, \n",
    "    edge_prop = 0.75,\n",
    "    mods = \"all\"\n",
    ")\n",
    "dev.off()"
   ]
  },
  {
   "cell_type": "code",
   "execution_count": null,
   "metadata": {
    "vscode": {
     "languageId": "r"
    }
   },
   "outputs": [],
   "source": [
    "seurat_obj$TIME <- factor(seurat_obj$TIME,levels=c(\"240\",\"180\",\"90\",\"60\",\"0\"))\n",
    "seurat_obj$TIME <- as.factor(seurat_obj$TIME)\n",
    "seurat_obj$SEGMENT <- factor(seurat_obj$SEGMENT,levels=c(\"colon\",\"cecum\",\"ileum\",\"jejunum\",\"duodenum\"))\n",
    "seurat_obj$SEGMENT <- as.factor(seurat_obj$SEGMENT)\n",
    "\n",
    "cur_traits <- c('TIME','SEGMENT')\n",
    "\n",
    "seurat_obj <- ModuleTraitCorrelation(\n",
    "  seurat_obj,\n",
    "  traits = cur_traits #, \n",
    "  #group.by = 'CellType'\n",
    ")\n",
    "mt_cor <- GetModuleTraitCorrelation(seurat_obj)\n",
    "names(mt_cor$cor)\n",
    "mt_cor$cor$all_cells\n",
    "\n",
    "write.csv(mt_cor$cor$all_cells, paste0(\"ModuleTraitCorrelation_\",group_name,\".csv\"), row.names =T)\n",
    "write.csv(mt_cor$pval$all_cells, paste0(\"ModuleTraitCorrelationPval_\",group_name,\".csv\"), row.names =T)"
   ]
  },
  {
   "cell_type": "code",
   "execution_count": null,
   "metadata": {
    "vscode": {
     "languageId": "r"
    }
   },
   "outputs": [],
   "source": [
    "pdf(file=paste0(\"ModuleTraitCorrelation_\",group_name,\".pdf\"), width=10, height=10)\n",
    "PlotModuleTraitCorrelation(\n",
    "  seurat_obj,\n",
    "  label = 'pval',  \n",
    "  label_symbol = 'stars',  \n",
    "  text_size = 2,\n",
    "  text_digits = 2,\n",
    "  text_color = \"black\",\n",
    "  high_color = \"#CB1B16\",\n",
    "  mid_color = \"white\",\n",
    "  low_color = \"#1368AA\",\n",
    "  plot_max = 0.2,\n",
    "  combine=TRUE\n",
    ")\n",
    "dev.off()"
   ]
  },
  {
   "attachments": {},
   "cell_type": "markdown",
   "metadata": {},
   "source": [
    "## Enrichment"
   ]
  },
  {
   "cell_type": "code",
   "execution_count": 3,
   "metadata": {},
   "outputs": [],
   "source": [
    "os.chdir('/disk213/xieqq/sc/WGCNA_Enrich/Enterocytes')"
   ]
  },
  {
   "attachments": {},
   "cell_type": "markdown",
   "metadata": {},
   "source": [
    "### GO"
   ]
  },
  {
   "cell_type": "code",
   "execution_count": null,
   "metadata": {},
   "outputs": [],
   "source": [
    "modulecolor = ['blue', 'yellow', 'green', 'red', 'brown', 'turquoise', 'black'] "
   ]
  },
  {
   "cell_type": "code",
   "execution_count": null,
   "metadata": {},
   "outputs": [],
   "source": [
    "for i in modulecolor[:]:\n",
    "    filename=i\n",
    "    gene_list = data[data['color'].isin([i])]\n",
    "    enr = gp.enrichr(gene_list=gene_list['gene_name_DAVID'],\n",
    "                     gene_sets='GO_Biological_Process_2023',  #['GO_Biological_Process_2023','GO_Cellular_Component_2023','GO_Molecular_Function_2023']\n",
    "                     organism='Human',\n",
    "                     outdir='./',\n",
    "                     cutoff=0.05,  #Wilcoxon test+FDR\n",
    "                     no_plot=True\n",
    "                    )\n",
    "    enr.results = enr.results[enr.results['Adjusted P-value'] < 0.05]\n",
    "    enr.results['Group'] = filename.replace('Epithelial_enrich_', '')\n",
    "    enr.results['-Log10 P-value'] = -enr.results['Adjusted P-value'].apply(math.log10)\n",
    "    enr.results['Count'] = enr.results['Overlap'].map(lambda x:x.split('/')[0])\n",
    "    enr.results['Gene Count'] = gene_list.shape[0]\n",
    "    enr.results['Background Count'] = enr.results['Overlap'].map(lambda x:x.split('/')[1])\n",
    "    enr.results['Count'] = pd.to_numeric(enr.results['Count'],errors='coerce')\n",
    "    enr.results['Gene Count'] = pd.to_numeric(enr.results['Gene Count'],errors='coerce')\n",
    "    enr.results['Background Count'] = pd.to_numeric(enr.results['Background Count'],errors='coerce')\n",
    "    enr.results['Fold Enrichment'] = (enr.results['Count']/enr.results['Gene Count'])/(enr.results['Background Count']/14937)\n",
    "    \n",
    "    enr.results=enr.results.sort_values(by='Fold Enrichment', ascending=False)\n",
    "    enr.results=enr.results.reset_index(drop = True)\n",
    "    enr.results.to_csv(filename+'_GO.csv')"
   ]
  },
  {
   "cell_type": "code",
   "execution_count": null,
   "metadata": {},
   "outputs": [],
   "source": [
    "files = os.listdir('./')\n",
    "\n",
    "def file_filter(f):\n",
    "    if f[-7:] in ['_GO.csv']:\n",
    "        return True\n",
    "    else:\n",
    "        return False\n",
    "\n",
    "files = list(filter(file_filter, files))\n",
    "print(files)"
   ]
  },
  {
   "cell_type": "code",
   "execution_count": 55,
   "metadata": {},
   "outputs": [],
   "source": [
    "data_list = []\n",
    "for i in files:\n",
    "    tmp = pd.read_csv(i, index_col=0)\n",
    "    data_list.append(tmp)\n",
    "dataset = pd.concat(data_list,ignore_index = False)\n",
    "dataset = dataset.reset_index(drop = True)\n",
    "dataset.to_csv('WGCNA_enrich_GO.csv')"
   ]
  },
  {
   "cell_type": "code",
   "execution_count": 56,
   "metadata": {},
   "outputs": [],
   "source": [
    "data_list = []\n",
    "for i in files:\n",
    "    tmp = pd.read_csv(i, index_col=0)\n",
    "    tmp = tmp.head(5)\n",
    "    data_list.append(tmp)\n",
    "dataset = pd.concat(data_list,ignore_index = False)\n",
    "dataset = dataset.reset_index(drop = True)\n",
    "dataset.to_csv('WGCNA_enrich_GO_top5.csv')"
   ]
  },
  {
   "attachments": {},
   "cell_type": "markdown",
   "metadata": {},
   "source": [
    "### KEGG"
   ]
  },
  {
   "cell_type": "code",
   "execution_count": null,
   "metadata": {},
   "outputs": [],
   "source": [
    "for i in modulecolor[:]:\n",
    "    filename=i\n",
    "    gene_list = data[data['color'].isin([i])]\n",
    "    enr = gp.enrichr(gene_list=gene_list['gene_name_DAVID'],\n",
    "                     gene_sets='KEGG_2021_Human',\n",
    "                     organism='Human',\n",
    "                     outdir='./',\n",
    "                     cutoff=0.05,  #Wilcoxon test+FDR\n",
    "                     no_plot=True\n",
    "                    )\n",
    "    enr.results = enr.results[enr.results['Adjusted P-value'] < 0.05]\n",
    "    enr.results['Group'] = filename.replace('Epithelial_enrich_', '')\n",
    "    enr.results['-Log10 P-value'] = -enr.results['Adjusted P-value'].apply(math.log10)\n",
    "    enr.results['Count'] = enr.results['Overlap'].map(lambda x:x.split('/')[0])\n",
    "    enr.results['Gene Count'] = gene_list.shape[0]\n",
    "    enr.results['Background Count'] = enr.results['Overlap'].map(lambda x:x.split('/')[1])\n",
    "    enr.results['Count'] = pd.to_numeric(enr.results['Count'],errors='coerce')\n",
    "    enr.results['Gene Count'] = pd.to_numeric(enr.results['Gene Count'],errors='coerce')\n",
    "    enr.results['Background Count'] = pd.to_numeric(enr.results['Background Count'],errors='coerce')\n",
    "    enr.results['Fold Enrichment'] = (enr.results['Count']/enr.results['Gene Count'])/(enr.results['Background Count']/8078)\n",
    "    \n",
    "    enr.results=enr.results.sort_values(by='Fold Enrichment', ascending=False)\n",
    "    enr.results=enr.results.reset_index(drop = True)\n",
    "    enr.results.to_csv(filename+'_KEGG.csv')"
   ]
  },
  {
   "cell_type": "code",
   "execution_count": null,
   "metadata": {},
   "outputs": [],
   "source": [
    "files = os.listdir('./')\n",
    "\n",
    "def file_filter(f):\n",
    "    if f[-9:] in ['_KEGG.csv']:\n",
    "        return True\n",
    "    else:\n",
    "        return False\n",
    "\n",
    "files = list(filter(file_filter, files))\n",
    "print(files)"
   ]
  },
  {
   "cell_type": "code",
   "execution_count": 59,
   "metadata": {},
   "outputs": [],
   "source": [
    "data_list = []\n",
    "for i in files:\n",
    "    tmp = pd.read_csv(i, index_col=0)\n",
    "    data_list.append(tmp)\n",
    "dataset = pd.concat(data_list,ignore_index = False)\n",
    "dataset = dataset.reset_index(drop = True)\n",
    "dataset.to_csv('WGCNA_enrich_KEGG.csv')"
   ]
  },
  {
   "cell_type": "code",
   "execution_count": 60,
   "metadata": {},
   "outputs": [],
   "source": [
    "data_list = []\n",
    "for i in files:\n",
    "    tmp = pd.read_csv(i, index_col=0)\n",
    "    tmp = tmp.head(5)\n",
    "    data_list.append(tmp)\n",
    "dataset = pd.concat(data_list,ignore_index = False)\n",
    "dataset = dataset.reset_index(drop = True)\n",
    "dataset.to_csv('WGCNA_enrich_KEGG_top5.csv')"
   ]
  }
 ],
 "metadata": {
  "kernelspec": {
   "display_name": "Python 3",
   "language": "python",
   "name": "python3"
  },
  "language_info": {
   "codemirror_mode": {
    "name": "ipython",
    "version": 3
   },
   "file_extension": ".py",
   "mimetype": "text/x-python",
   "name": "python",
   "nbconvert_exporter": "python",
   "pygments_lexer": "ipython3",
   "version": "3.7.12"
  },
  "orig_nbformat": 4
 },
 "nbformat": 4,
 "nbformat_minor": 2
}
