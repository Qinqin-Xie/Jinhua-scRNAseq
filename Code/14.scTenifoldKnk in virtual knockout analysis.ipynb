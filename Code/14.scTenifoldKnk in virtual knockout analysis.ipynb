{
 "cells": [
  {
   "cell_type": "markdown",
   "id": "b9aa787f",
   "metadata": {},
   "source": [
    "# **Global settings**"
   ]
  },
  {
   "cell_type": "code",
   "execution_count": null,
   "id": "d18acda7",
   "metadata": {},
   "outputs": [],
   "source": [
    "import numpy as np\n",
    "import pandas as pd\n",
    "import matplotlib.pyplot as plt\n",
    "import matplotlib.colors as mcolors\n",
    "from matplotlib import rcParams\n",
    "from matplotlib.pyplot import rc_context\n",
    "import scanpy as sc\n",
    "import scrublet as scr\n",
    "import scvelo as scv\n",
    "import seaborn as sns\n",
    "import scipy.io\n",
    "import os\n",
    "import dotplot\n",
    "import dotplot.utils\n",
    "import math\n",
    "import gseapy as gp\n",
    "from gseapy.plot import barplot, dotplot, gseaplot\n",
    "from gseapy.scipalette import SciPalette\n",
    "from pylab import *\n",
    "from matplotlib.colors import ListedColormap,LinearSegmentedColormap "
   ]
  },
  {
   "cell_type": "markdown",
   "id": "bafff35e",
   "metadata": {},
   "source": [
    "# Data"
   ]
  },
  {
   "cell_type": "code",
   "execution_count": null,
   "id": "12427719",
   "metadata": {},
   "outputs": [],
   "source": [
    "os.chdir('/disk213/xieqq/JINHUA138.sc')"
   ]
  },
  {
   "cell_type": "code",
   "execution_count": null,
   "id": "1bba42b3",
   "metadata": {},
   "outputs": [],
   "source": [
    "os.chdir('/disk213/xieqq/JINHUA138.sc/scTenifoldKnk')"
   ]
  },
  {
   "cell_type": "code",
   "execution_count": null,
   "id": "14405016",
   "metadata": {},
   "outputs": [],
   "source": [
    "concat = sc.read_h5ad('/disk213/xieqq/JINHUA138.sc/adata_rowcounts.h5ad')\n",
    "adata = sc.read_h5ad('/disk213/xieqq/JINHUA138.sc/adata_CellLineage.h5ad')\n",
    "common_cells = set(concat.obs_names) & set(adata.obs_names)\n",
    "concat = concat[concat.obs_names.isin(common_cells), :]\n",
    "adata = adata[adata.obs_names.isin(common_cells), :]\n",
    "adata.layers['counts']=concat.X"
   ]
  },
  {
   "cell_type": "code",
   "execution_count": null,
   "id": "e810b1a3",
   "metadata": {},
   "outputs": [],
   "source": [
    "Epithelial = sc.read_h5ad('/disk213/xieqq/JINHUA138.sc/Epithelial_CellType.h5ad')\n",
    "adata = adata[adata.obs['CellLineage'].isin(['Epithelial'])]\n",
    "adata.obs['CellType'] = Epithelial.obs['CellType']"
   ]
  },
  {
   "cell_type": "code",
   "execution_count": null,
   "id": "f578839e",
   "metadata": {},
   "outputs": [],
   "source": [
    "Enterocytes = adata[adata.obs['CellType'].isin(['Enterocytes'])]\n",
    "counts = Enterocytes.layers['counts']"
   ]
  },
  {
   "cell_type": "code",
   "execution_count": null,
   "id": "06bb67d3",
   "metadata": {},
   "outputs": [],
   "source": [
    "counts_df = pd.DataFrame(counts.toarray(), index=Enterocytes.obs_names, columns=Enterocytes.var_names)\n",
    "counts_df.to_csv(\"Enterocytes_counts.csv\")"
   ]
  },
  {
   "cell_type": "markdown",
   "id": "7e571357",
   "metadata": {},
   "source": [
    "# scTenifoldKnk"
   ]
  },
  {
   "cell_type": "code",
   "execution_count": null,
   "id": "307b0d55",
   "metadata": {},
   "outputs": [],
   "source": [
    "library(dplyr)\n",
    "library(tidyr)\n",
    "library(qvalue)\n",
    "library(ggplot2)\n",
    "library(ggbreak)\n",
    "library(stringr)\n",
    "library(Seurat)\n",
    "library(ggrepel)\n",
    "library(scTenifoldNet)\n",
    "library(scTenifoldKnk)"
   ]
  },
  {
   "cell_type": "code",
   "execution_count": null,
   "id": "ac54650a",
   "metadata": {},
   "outputs": [],
   "source": [
    "setwd(\"/disk213/xieqq/JINHUA138.sc/scTenifoldKnk\")"
   ]
  },
  {
   "cell_type": "code",
   "execution_count": null,
   "id": "e92baaed",
   "metadata": {},
   "outputs": [],
   "source": [
    "countMatrix <- read.csv(\"Enterocytes_counts.csv\", row.names=1)"
   ]
  },
  {
   "cell_type": "code",
   "execution_count": null,
   "id": "7ed7e0f4",
   "metadata": {},
   "outputs": [],
   "source": [
    "countMatrix1 <- countMatrix[grepl(\"_0$\", rownames(countMatrix)),]\n",
    "write.csv(countMatrix1, file=\"Enterocytes_0d_counts.csv\")\n",
    "countMatrix1 <- countMatrix[grepl(\"_60$\", rownames(countMatrix)),]\n",
    "write.csv(countMatrix1, file=\"Enterocytes_60d_counts.csv\")\n",
    "countMatrix1 <- countMatrix[grepl(\"_90$\", rownames(countMatrix)),]\n",
    "write.csv(countMatrix1, file=\"Enterocytes_90d_counts.csv\")\n",
    "countMatrix1 <- countMatrix[grepl(\"_180$\", rownames(countMatrix)),]\n",
    "write.csv(countMatrix1, file=\"Enterocytes_180d_counts.csv\")\n",
    "countMatrix1 <- countMatrix[grepl(\"_240$\", rownames(countMatrix)),]\n",
    "write.csv(countMatrix1, file=\"Enterocytes_240d_counts.csv\")\n",
    "countMatrix1 <- countMatrix[grepl(\"_60$|_90$|_180$\", rownames(countMatrix)),]\n",
    "write.csv(countMatrix1, file=\"Enterocytes_60d-180d_counts.csv\")"
   ]
  },
  {
   "cell_type": "code",
   "execution_count": null,
   "id": "0502bb5b",
   "metadata": {},
   "outputs": [],
   "source": [
    "# count\n",
    "countMatrix <- countMatrix1\n",
    "countMatrix <- read.csv(\"Enterocytes_90d_counts.csv\", row.names=1)\n",
    "countMatrix <- as.matrix(t(countMatrix))\n",
    "#countMatrix[1:5,1:5]"
   ]
  },
  {
   "cell_type": "code",
   "execution_count": null,
   "id": "d61a880b",
   "metadata": {},
   "outputs": [],
   "source": [
    "genename=\"PCK1\""
   ]
  },
  {
   "cell_type": "code",
   "execution_count": null,
   "id": "0474f7db",
   "metadata": {},
   "outputs": [],
   "source": [
    "result <- scTenifoldKnk(countMatrix=countMatrix, gKO=genename) \n",
    "df <- result$diffRegulation %>% mutate(log_pval=-log10(p.adj))\n",
    "write.csv(df, file=\"scTenifoldKnk.diffRegulation.csv\", row.names=F)"
   ]
  },
  {
   "cell_type": "code",
   "execution_count": null,
   "id": "beb5f8e6",
   "metadata": {},
   "outputs": [],
   "source": [
    "out=NULL\n",
    "for (i in c(\"0d\",\"60d\",\"90d\",\"180d\",\"240d\")){\n",
    "  df <- read.csv(paste0(\"scTenifoldKnk.diffRegulation.\",i,\".csv\"),check.names=F) %>% filter(p.value<0.05) %>% mutate(time=i)\n",
    "  out <- rbind(out,df)\n",
    "}\n",
    "write.csv(out, file=\"scTenifoldKnk.diffRegulation.alltime.csv\", row.names=F)\n",
    "\n",
    "out <- out[!is.infinite(out$log_pval), ]\n",
    "label_genes <- out %>% group_by(time) %>% arrange(desc(Z)) %>% slice_head(n=10) %>% ungroup() %>% filter(!str_starts(gene, \"ENSSSCG\"))\n",
    "out$time <- factor(out$time, levels=c(\"0d\",\"60d\",\"90d\",\"180d\",\"240d\"))\n",
    "\n",
    "P1 <- ggplot(out, aes(x=Z,y=log_pval,color=time)) +\n",
    "  geom_point(alpha=0.5) +\n",
    "  geom_hline(yintercept=-log10(0.05), linetype=\"dashed\", color=\"black\") +\n",
    "  geom_vline(xintercept=c(2), linetype=\"dashed\", color=\"black\") +\n",
    "  geom_text_repel(data=label_genes, aes(label=gene),size=3, max.overlaps=50) +\n",
    "  scale_color_manual(values=c(\"0d\"=\"#FF595E\",\"60d\"='#FFCA3A',\"90d\"='#8AC926',\"180d\"='#1982C4',\"240d\"=\"#6A4C93\"))+\n",
    "  labs(title=\"\", x=\"Z-score\", y=\"-log10(p-value)\") +\n",
    "  theme_bw()+ \n",
    "  theme(axis.text.x=element_text(color=\"black\",size=10),\n",
    "        axis.text.y=element_text(color=\"black\",size=10),\n",
    "        axis.title.x=element_text(color=\"black\",size=12),\n",
    "        axis.title.y=element_text(color=\"black\",size=12),\n",
    "        legend.text=element_text(color=\"black\",size=12),\n",
    "        legend.title=element_text(color=\"black\",size=10),\n",
    "        panel.grid.major=element_blank(),\n",
    "        panel.grid.minor=element_blank())\n",
    "\n",
    "pdf(file=\"scTenifoldKnk_Z&P.pdf\", width=6.5, height=6)\n",
    "P1\n",
    "dev.off()\n",
    "\n",
    "#out <- read.csv(\"scTenifoldKnk.diffRegulation.60d-180d.csv\",check.names=F) %>% filter(p.value<0.05)\n",
    "out <- df %>% filter(p.value<0.05) %>% filter(!str_starts(gene, \"PCK1\")) \n",
    "label_genes <- out %>% filter(!str_starts(gene, \"ENSSSCG\")) %>% arrange(desc(Z)) %>% slice_head(n=10) %>% ungroup()\n",
    "\n",
    "P2 <- ggplot(out, aes(x=Z,y=log_pval)) +\n",
    "  geom_point(alpha=0.5) +\n",
    "  geom_hline(yintercept=-log10(0.05), linetype=\"dashed\", color=\"black\") +\n",
    "  geom_vline(xintercept=c(2), linetype=\"dashed\", color=\"black\") +\n",
    "  geom_text_repel(data=label_genes, aes(label=gene),size=3, max.overlaps=50) +\n",
    "  labs(title=\"\", x=\"Z-score\", y=\"-log10(p-value)\") +\n",
    "  theme_bw()+ \n",
    "  theme(axis.text.x=element_text(color=\"black\",size=10),\n",
    "        axis.text.y=element_text(color=\"black\",size=10),\n",
    "        axis.title.x=element_text(color=\"black\",size=12),\n",
    "        axis.title.y=element_text(color=\"black\",size=12),\n",
    "        legend.text=element_text(color=\"black\",size=12),\n",
    "        legend.title=element_text(color=\"black\",size=10),\n",
    "        panel.grid.major=element_blank(),\n",
    "        panel.grid.minor=element_blank())\n",
    "\n",
    "pdf(file=\"scTenifoldKnk_Z&P_60d-180d.pdf\", width=6, height=6)\n",
    "P2\n",
    "dev.off()"
   ]
  }
 ],
 "metadata": {
  "language_info": {
   "name": "python"
  }
 },
 "nbformat": 4,
 "nbformat_minor": 5
}
